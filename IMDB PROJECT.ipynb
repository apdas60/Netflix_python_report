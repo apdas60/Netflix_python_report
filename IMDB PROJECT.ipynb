{
 "cells": [
  {
   "cell_type": "code",
   "execution_count": 1,
   "id": "09339066",
   "metadata": {},
   "outputs": [],
   "source": [
    "import pandas as pd\n",
    "import numpy as np\n",
    "import matplotlib.pyplot as plt\n",
    "import seaborn as sns"
   ]
  },
  {
   "cell_type": "markdown",
   "id": "5164f2ff",
   "metadata": {},
   "source": [
    "# LOAD CSV FILE"
   ]
  },
  {
   "cell_type": "code",
   "execution_count": 2,
   "id": "0e835055",
   "metadata": {},
   "outputs": [],
   "source": [
    "df=pd.read_csv('IMDB-Movie-Data.csv')"
   ]
  },
  {
   "cell_type": "code",
   "execution_count": 3,
   "id": "1213094a",
   "metadata": {},
   "outputs": [
    {
     "data": {
      "text/html": [
       "<div>\n",
       "<style scoped>\n",
       "    .dataframe tbody tr th:only-of-type {\n",
       "        vertical-align: middle;\n",
       "    }\n",
       "\n",
       "    .dataframe tbody tr th {\n",
       "        vertical-align: top;\n",
       "    }\n",
       "\n",
       "    .dataframe thead th {\n",
       "        text-align: right;\n",
       "    }\n",
       "</style>\n",
       "<table border=\"1\" class=\"dataframe\">\n",
       "  <thead>\n",
       "    <tr style=\"text-align: right;\">\n",
       "      <th></th>\n",
       "      <th>Rank</th>\n",
       "      <th>Title</th>\n",
       "      <th>Genre</th>\n",
       "      <th>Description</th>\n",
       "      <th>Director</th>\n",
       "      <th>Actors</th>\n",
       "      <th>Year</th>\n",
       "      <th>Runtime (Minutes)</th>\n",
       "      <th>Rating</th>\n",
       "      <th>Votes</th>\n",
       "      <th>Revenue (Millions)</th>\n",
       "      <th>Metascore</th>\n",
       "    </tr>\n",
       "  </thead>\n",
       "  <tbody>\n",
       "    <tr>\n",
       "      <th>0</th>\n",
       "      <td>1</td>\n",
       "      <td>Guardians of the Galaxy</td>\n",
       "      <td>Action,Adventure,Sci-Fi</td>\n",
       "      <td>A group of intergalactic criminals are forced ...</td>\n",
       "      <td>James Gunn</td>\n",
       "      <td>Chris Pratt, Vin Diesel, Bradley Cooper, Zoe S...</td>\n",
       "      <td>2014</td>\n",
       "      <td>121</td>\n",
       "      <td>8.1</td>\n",
       "      <td>757074</td>\n",
       "      <td>333.13</td>\n",
       "      <td>76.0</td>\n",
       "    </tr>\n",
       "    <tr>\n",
       "      <th>1</th>\n",
       "      <td>2</td>\n",
       "      <td>Prometheus</td>\n",
       "      <td>Adventure,Mystery,Sci-Fi</td>\n",
       "      <td>Following clues to the origin of mankind, a te...</td>\n",
       "      <td>Ridley Scott</td>\n",
       "      <td>Noomi Rapace, Logan Marshall-Green, Michael Fa...</td>\n",
       "      <td>2012</td>\n",
       "      <td>124</td>\n",
       "      <td>7.0</td>\n",
       "      <td>485820</td>\n",
       "      <td>126.46</td>\n",
       "      <td>65.0</td>\n",
       "    </tr>\n",
       "    <tr>\n",
       "      <th>2</th>\n",
       "      <td>3</td>\n",
       "      <td>Split</td>\n",
       "      <td>Horror,Thriller</td>\n",
       "      <td>Three girls are kidnapped by a man with a diag...</td>\n",
       "      <td>M. Night Shyamalan</td>\n",
       "      <td>James McAvoy, Anya Taylor-Joy, Haley Lu Richar...</td>\n",
       "      <td>2016</td>\n",
       "      <td>117</td>\n",
       "      <td>7.3</td>\n",
       "      <td>157606</td>\n",
       "      <td>138.12</td>\n",
       "      <td>62.0</td>\n",
       "    </tr>\n",
       "    <tr>\n",
       "      <th>3</th>\n",
       "      <td>4</td>\n",
       "      <td>Sing</td>\n",
       "      <td>Animation,Comedy,Family</td>\n",
       "      <td>In a city of humanoid animals, a hustling thea...</td>\n",
       "      <td>Christophe Lourdelet</td>\n",
       "      <td>Matthew McConaughey,Reese Witherspoon, Seth Ma...</td>\n",
       "      <td>2016</td>\n",
       "      <td>108</td>\n",
       "      <td>7.2</td>\n",
       "      <td>60545</td>\n",
       "      <td>270.32</td>\n",
       "      <td>59.0</td>\n",
       "    </tr>\n",
       "    <tr>\n",
       "      <th>4</th>\n",
       "      <td>5</td>\n",
       "      <td>Suicide Squad</td>\n",
       "      <td>Action,Adventure,Fantasy</td>\n",
       "      <td>A secret government agency recruits some of th...</td>\n",
       "      <td>David Ayer</td>\n",
       "      <td>Will Smith, Jared Leto, Margot Robbie, Viola D...</td>\n",
       "      <td>2016</td>\n",
       "      <td>123</td>\n",
       "      <td>6.2</td>\n",
       "      <td>393727</td>\n",
       "      <td>325.02</td>\n",
       "      <td>40.0</td>\n",
       "    </tr>\n",
       "    <tr>\n",
       "      <th>...</th>\n",
       "      <td>...</td>\n",
       "      <td>...</td>\n",
       "      <td>...</td>\n",
       "      <td>...</td>\n",
       "      <td>...</td>\n",
       "      <td>...</td>\n",
       "      <td>...</td>\n",
       "      <td>...</td>\n",
       "      <td>...</td>\n",
       "      <td>...</td>\n",
       "      <td>...</td>\n",
       "      <td>...</td>\n",
       "    </tr>\n",
       "    <tr>\n",
       "      <th>995</th>\n",
       "      <td>996</td>\n",
       "      <td>Secret in Their Eyes</td>\n",
       "      <td>Crime,Drama,Mystery</td>\n",
       "      <td>A tight-knit team of rising investigators, alo...</td>\n",
       "      <td>Billy Ray</td>\n",
       "      <td>Chiwetel Ejiofor, Nicole Kidman, Julia Roberts...</td>\n",
       "      <td>2015</td>\n",
       "      <td>111</td>\n",
       "      <td>6.2</td>\n",
       "      <td>27585</td>\n",
       "      <td>NaN</td>\n",
       "      <td>45.0</td>\n",
       "    </tr>\n",
       "    <tr>\n",
       "      <th>996</th>\n",
       "      <td>997</td>\n",
       "      <td>Hostel: Part II</td>\n",
       "      <td>Horror</td>\n",
       "      <td>Three American college students studying abroa...</td>\n",
       "      <td>Eli Roth</td>\n",
       "      <td>Lauren German, Heather Matarazzo, Bijou Philli...</td>\n",
       "      <td>2007</td>\n",
       "      <td>94</td>\n",
       "      <td>5.5</td>\n",
       "      <td>73152</td>\n",
       "      <td>17.54</td>\n",
       "      <td>46.0</td>\n",
       "    </tr>\n",
       "    <tr>\n",
       "      <th>997</th>\n",
       "      <td>998</td>\n",
       "      <td>Step Up 2: The Streets</td>\n",
       "      <td>Drama,Music,Romance</td>\n",
       "      <td>Romantic sparks occur between two dance studen...</td>\n",
       "      <td>Jon M. Chu</td>\n",
       "      <td>Robert Hoffman, Briana Evigan, Cassie Ventura,...</td>\n",
       "      <td>2008</td>\n",
       "      <td>98</td>\n",
       "      <td>6.2</td>\n",
       "      <td>70699</td>\n",
       "      <td>58.01</td>\n",
       "      <td>50.0</td>\n",
       "    </tr>\n",
       "    <tr>\n",
       "      <th>998</th>\n",
       "      <td>999</td>\n",
       "      <td>Search Party</td>\n",
       "      <td>Adventure,Comedy</td>\n",
       "      <td>A pair of friends embark on a mission to reuni...</td>\n",
       "      <td>Scot Armstrong</td>\n",
       "      <td>Adam Pally, T.J. Miller, Thomas Middleditch,Sh...</td>\n",
       "      <td>2014</td>\n",
       "      <td>93</td>\n",
       "      <td>5.6</td>\n",
       "      <td>4881</td>\n",
       "      <td>NaN</td>\n",
       "      <td>22.0</td>\n",
       "    </tr>\n",
       "    <tr>\n",
       "      <th>999</th>\n",
       "      <td>1000</td>\n",
       "      <td>Nine Lives</td>\n",
       "      <td>Comedy,Family,Fantasy</td>\n",
       "      <td>A stuffy businessman finds himself trapped ins...</td>\n",
       "      <td>Barry Sonnenfeld</td>\n",
       "      <td>Kevin Spacey, Jennifer Garner, Robbie Amell,Ch...</td>\n",
       "      <td>2016</td>\n",
       "      <td>87</td>\n",
       "      <td>5.3</td>\n",
       "      <td>12435</td>\n",
       "      <td>19.64</td>\n",
       "      <td>11.0</td>\n",
       "    </tr>\n",
       "  </tbody>\n",
       "</table>\n",
       "<p>1000 rows × 12 columns</p>\n",
       "</div>"
      ],
      "text/plain": [
       "     Rank                    Title                     Genre  \\\n",
       "0       1  Guardians of the Galaxy   Action,Adventure,Sci-Fi   \n",
       "1       2               Prometheus  Adventure,Mystery,Sci-Fi   \n",
       "2       3                    Split           Horror,Thriller   \n",
       "3       4                     Sing   Animation,Comedy,Family   \n",
       "4       5            Suicide Squad  Action,Adventure,Fantasy   \n",
       "..    ...                      ...                       ...   \n",
       "995   996     Secret in Their Eyes       Crime,Drama,Mystery   \n",
       "996   997          Hostel: Part II                    Horror   \n",
       "997   998   Step Up 2: The Streets       Drama,Music,Romance   \n",
       "998   999             Search Party          Adventure,Comedy   \n",
       "999  1000               Nine Lives     Comedy,Family,Fantasy   \n",
       "\n",
       "                                           Description              Director  \\\n",
       "0    A group of intergalactic criminals are forced ...            James Gunn   \n",
       "1    Following clues to the origin of mankind, a te...          Ridley Scott   \n",
       "2    Three girls are kidnapped by a man with a diag...    M. Night Shyamalan   \n",
       "3    In a city of humanoid animals, a hustling thea...  Christophe Lourdelet   \n",
       "4    A secret government agency recruits some of th...            David Ayer   \n",
       "..                                                 ...                   ...   \n",
       "995  A tight-knit team of rising investigators, alo...             Billy Ray   \n",
       "996  Three American college students studying abroa...              Eli Roth   \n",
       "997  Romantic sparks occur between two dance studen...            Jon M. Chu   \n",
       "998  A pair of friends embark on a mission to reuni...        Scot Armstrong   \n",
       "999  A stuffy businessman finds himself trapped ins...      Barry Sonnenfeld   \n",
       "\n",
       "                                                Actors  Year  \\\n",
       "0    Chris Pratt, Vin Diesel, Bradley Cooper, Zoe S...  2014   \n",
       "1    Noomi Rapace, Logan Marshall-Green, Michael Fa...  2012   \n",
       "2    James McAvoy, Anya Taylor-Joy, Haley Lu Richar...  2016   \n",
       "3    Matthew McConaughey,Reese Witherspoon, Seth Ma...  2016   \n",
       "4    Will Smith, Jared Leto, Margot Robbie, Viola D...  2016   \n",
       "..                                                 ...   ...   \n",
       "995  Chiwetel Ejiofor, Nicole Kidman, Julia Roberts...  2015   \n",
       "996  Lauren German, Heather Matarazzo, Bijou Philli...  2007   \n",
       "997  Robert Hoffman, Briana Evigan, Cassie Ventura,...  2008   \n",
       "998  Adam Pally, T.J. Miller, Thomas Middleditch,Sh...  2014   \n",
       "999  Kevin Spacey, Jennifer Garner, Robbie Amell,Ch...  2016   \n",
       "\n",
       "     Runtime (Minutes)  Rating   Votes  Revenue (Millions)  Metascore  \n",
       "0                  121     8.1  757074              333.13       76.0  \n",
       "1                  124     7.0  485820              126.46       65.0  \n",
       "2                  117     7.3  157606              138.12       62.0  \n",
       "3                  108     7.2   60545              270.32       59.0  \n",
       "4                  123     6.2  393727              325.02       40.0  \n",
       "..                 ...     ...     ...                 ...        ...  \n",
       "995                111     6.2   27585                 NaN       45.0  \n",
       "996                 94     5.5   73152               17.54       46.0  \n",
       "997                 98     6.2   70699               58.01       50.0  \n",
       "998                 93     5.6    4881                 NaN       22.0  \n",
       "999                 87     5.3   12435               19.64       11.0  \n",
       "\n",
       "[1000 rows x 12 columns]"
      ]
     },
     "execution_count": 3,
     "metadata": {},
     "output_type": "execute_result"
    }
   ],
   "source": [
    "df"
   ]
  },
  {
   "cell_type": "code",
   "execution_count": 4,
   "id": "854d1bd9",
   "metadata": {},
   "outputs": [
    {
     "data": {
      "text/html": [
       "<div>\n",
       "<style scoped>\n",
       "    .dataframe tbody tr th:only-of-type {\n",
       "        vertical-align: middle;\n",
       "    }\n",
       "\n",
       "    .dataframe tbody tr th {\n",
       "        vertical-align: top;\n",
       "    }\n",
       "\n",
       "    .dataframe thead th {\n",
       "        text-align: right;\n",
       "    }\n",
       "</style>\n",
       "<table border=\"1\" class=\"dataframe\">\n",
       "  <thead>\n",
       "    <tr style=\"text-align: right;\">\n",
       "      <th></th>\n",
       "      <th>Rank</th>\n",
       "      <th>Title</th>\n",
       "      <th>Genre</th>\n",
       "      <th>Description</th>\n",
       "      <th>Director</th>\n",
       "      <th>Actors</th>\n",
       "      <th>Year</th>\n",
       "      <th>Runtime (Minutes)</th>\n",
       "      <th>Rating</th>\n",
       "      <th>Votes</th>\n",
       "      <th>Revenue (Millions)</th>\n",
       "      <th>Metascore</th>\n",
       "    </tr>\n",
       "  </thead>\n",
       "  <tbody>\n",
       "    <tr>\n",
       "      <th>206</th>\n",
       "      <td>207</td>\n",
       "      <td>Raw (II)</td>\n",
       "      <td>Drama,Horror</td>\n",
       "      <td>When a young vegetarian undergoes a carnivorou...</td>\n",
       "      <td>Julia Ducournau</td>\n",
       "      <td>Garance Marillier, Ella Rumpf, Rabah Nait Oufe...</td>\n",
       "      <td>2016</td>\n",
       "      <td>99</td>\n",
       "      <td>7.5</td>\n",
       "      <td>5435</td>\n",
       "      <td>0.51</td>\n",
       "      <td>81.0</td>\n",
       "    </tr>\n",
       "    <tr>\n",
       "      <th>144</th>\n",
       "      <td>145</td>\n",
       "      <td>Django Unchained</td>\n",
       "      <td>Drama,Western</td>\n",
       "      <td>With the help of a German bounty hunter , a fr...</td>\n",
       "      <td>Quentin Tarantino</td>\n",
       "      <td>Jamie Foxx, Christoph Waltz, Leonardo DiCaprio...</td>\n",
       "      <td>2012</td>\n",
       "      <td>165</td>\n",
       "      <td>8.4</td>\n",
       "      <td>1039115</td>\n",
       "      <td>162.80</td>\n",
       "      <td>81.0</td>\n",
       "    </tr>\n",
       "    <tr>\n",
       "      <th>217</th>\n",
       "      <td>218</td>\n",
       "      <td>Monster Trucks</td>\n",
       "      <td>Action,Adventure,Comedy</td>\n",
       "      <td>A young man working at a small town junkyard d...</td>\n",
       "      <td>Chris Wedge</td>\n",
       "      <td>Lucas Till, Jane Levy, Thomas Lennon, Barry Pe...</td>\n",
       "      <td>2016</td>\n",
       "      <td>104</td>\n",
       "      <td>5.7</td>\n",
       "      <td>7044</td>\n",
       "      <td>33.04</td>\n",
       "      <td>41.0</td>\n",
       "    </tr>\n",
       "    <tr>\n",
       "      <th>193</th>\n",
       "      <td>194</td>\n",
       "      <td>Morgan</td>\n",
       "      <td>Horror,Sci-Fi,Thriller</td>\n",
       "      <td>A corporate risk-management consultant must de...</td>\n",
       "      <td>Luke Scott</td>\n",
       "      <td>Kate Mara, Anya Taylor-Joy, Rose Leslie, Micha...</td>\n",
       "      <td>2016</td>\n",
       "      <td>92</td>\n",
       "      <td>5.8</td>\n",
       "      <td>22107</td>\n",
       "      <td>3.91</td>\n",
       "      <td>48.0</td>\n",
       "    </tr>\n",
       "    <tr>\n",
       "      <th>578</th>\n",
       "      <td>579</td>\n",
       "      <td>The Hunger Games: Catching Fire</td>\n",
       "      <td>Action,Adventure,Mystery</td>\n",
       "      <td>Katniss Everdeen and Peeta Mellark become targ...</td>\n",
       "      <td>Francis Lawrence</td>\n",
       "      <td>Jennifer Lawrence, Josh Hutcherson, Liam Hemsw...</td>\n",
       "      <td>2013</td>\n",
       "      <td>146</td>\n",
       "      <td>7.6</td>\n",
       "      <td>525646</td>\n",
       "      <td>424.65</td>\n",
       "      <td>76.0</td>\n",
       "    </tr>\n",
       "  </tbody>\n",
       "</table>\n",
       "</div>"
      ],
      "text/plain": [
       "     Rank                            Title                     Genre  \\\n",
       "206   207                         Raw (II)              Drama,Horror   \n",
       "144   145                 Django Unchained             Drama,Western   \n",
       "217   218                   Monster Trucks   Action,Adventure,Comedy   \n",
       "193   194                           Morgan    Horror,Sci-Fi,Thriller   \n",
       "578   579  The Hunger Games: Catching Fire  Action,Adventure,Mystery   \n",
       "\n",
       "                                           Description           Director  \\\n",
       "206  When a young vegetarian undergoes a carnivorou...    Julia Ducournau   \n",
       "144  With the help of a German bounty hunter , a fr...  Quentin Tarantino   \n",
       "217  A young man working at a small town junkyard d...        Chris Wedge   \n",
       "193  A corporate risk-management consultant must de...         Luke Scott   \n",
       "578  Katniss Everdeen and Peeta Mellark become targ...   Francis Lawrence   \n",
       "\n",
       "                                                Actors  Year  \\\n",
       "206  Garance Marillier, Ella Rumpf, Rabah Nait Oufe...  2016   \n",
       "144  Jamie Foxx, Christoph Waltz, Leonardo DiCaprio...  2012   \n",
       "217  Lucas Till, Jane Levy, Thomas Lennon, Barry Pe...  2016   \n",
       "193  Kate Mara, Anya Taylor-Joy, Rose Leslie, Micha...  2016   \n",
       "578  Jennifer Lawrence, Josh Hutcherson, Liam Hemsw...  2013   \n",
       "\n",
       "     Runtime (Minutes)  Rating    Votes  Revenue (Millions)  Metascore  \n",
       "206                 99     7.5     5435                0.51       81.0  \n",
       "144                165     8.4  1039115              162.80       81.0  \n",
       "217                104     5.7     7044               33.04       41.0  \n",
       "193                 92     5.8    22107                3.91       48.0  \n",
       "578                146     7.6   525646              424.65       76.0  "
      ]
     },
     "execution_count": 4,
     "metadata": {},
     "output_type": "execute_result"
    }
   ],
   "source": [
    "df.sample(5)"
   ]
  },
  {
   "cell_type": "markdown",
   "id": "5745dbdc",
   "metadata": {},
   "source": [
    "# File Information"
   ]
  },
  {
   "cell_type": "code",
   "execution_count": 5,
   "id": "857b08fe",
   "metadata": {},
   "outputs": [
    {
     "name": "stdout",
     "output_type": "stream",
     "text": [
      "<class 'pandas.core.frame.DataFrame'>\n",
      "RangeIndex: 1000 entries, 0 to 999\n",
      "Data columns (total 12 columns):\n",
      " #   Column              Non-Null Count  Dtype  \n",
      "---  ------              --------------  -----  \n",
      " 0   Rank                1000 non-null   int64  \n",
      " 1   Title               1000 non-null   object \n",
      " 2   Genre               1000 non-null   object \n",
      " 3   Description         1000 non-null   object \n",
      " 4   Director            1000 non-null   object \n",
      " 5   Actors              1000 non-null   object \n",
      " 6   Year                1000 non-null   int64  \n",
      " 7   Runtime (Minutes)   1000 non-null   int64  \n",
      " 8   Rating              1000 non-null   float64\n",
      " 9   Votes               1000 non-null   int64  \n",
      " 10  Revenue (Millions)  872 non-null    float64\n",
      " 11  Metascore           936 non-null    float64\n",
      "dtypes: float64(3), int64(4), object(5)\n",
      "memory usage: 93.9+ KB\n"
     ]
    }
   ],
   "source": [
    "df.info()"
   ]
  },
  {
   "cell_type": "code",
   "execution_count": 6,
   "id": "7158ddc2",
   "metadata": {},
   "outputs": [
    {
     "data": {
      "text/plain": [
       "(1000, 12)"
      ]
     },
     "execution_count": 6,
     "metadata": {},
     "output_type": "execute_result"
    }
   ],
   "source": [
    "df.shape"
   ]
  },
  {
   "cell_type": "markdown",
   "id": "40a30741",
   "metadata": {},
   "source": [
    "# Check null values"
   ]
  },
  {
   "cell_type": "code",
   "execution_count": 7,
   "id": "89fa655c",
   "metadata": {},
   "outputs": [
    {
     "data": {
      "text/plain": [
       "Rank                    0\n",
       "Title                   0\n",
       "Genre                   0\n",
       "Description             0\n",
       "Director                0\n",
       "Actors                  0\n",
       "Year                    0\n",
       "Runtime (Minutes)       0\n",
       "Rating                  0\n",
       "Votes                   0\n",
       "Revenue (Millions)    128\n",
       "Metascore              64\n",
       "dtype: int64"
      ]
     },
     "execution_count": 7,
     "metadata": {},
     "output_type": "execute_result"
    }
   ],
   "source": [
    "df.isnull().sum()"
   ]
  },
  {
   "cell_type": "code",
   "execution_count": 8,
   "id": "06688c3e",
   "metadata": {},
   "outputs": [
    {
     "data": {
      "text/plain": [
       "<Axes: >"
      ]
     },
     "execution_count": 8,
     "metadata": {},
     "output_type": "execute_result"
    },
    {
     "data": {
      "image/png": "[encoded data removed]",
      "text/plain": [
       "<Figure size 640x480 with 2 Axes>"
      ]
     },
     "metadata": {},
     "output_type": "display_data"
    }
   ],
   "source": [
    "sns.heatmap(df.isnull())"
   ]
  },
  {
   "cell_type": "code",
   "execution_count": 9,
   "id": "eb051a37",
   "metadata": {},
   "outputs": [
    {
     "data": {
      "text/plain": [
       "Rank                   0.0\n",
       "Title                  0.0\n",
       "Genre                  0.0\n",
       "Description            0.0\n",
       "Director               0.0\n",
       "Actors                 0.0\n",
       "Year                   0.0\n",
       "Runtime (Minutes)      0.0\n",
       "Rating                 0.0\n",
       "Votes                  0.0\n",
       "Revenue (Millions)    12.8\n",
       "Metascore              6.4\n",
       "dtype: float64"
      ]
     },
     "execution_count": 9,
     "metadata": {},
     "output_type": "execute_result"
    }
   ],
   "source": [
    "df.isnull().sum()/len(df)*100"
   ]
  },
  {
   "cell_type": "markdown",
   "id": "28d7fc11",
   "metadata": {},
   "source": [
    "# check duplicate values"
   ]
  },
  {
   "cell_type": "code",
   "execution_count": 10,
   "id": "3c8e5b9b",
   "metadata": {},
   "outputs": [
    {
     "data": {
      "text/plain": [
       "False"
      ]
     },
     "execution_count": 10,
     "metadata": {},
     "output_type": "execute_result"
    }
   ],
   "source": [
    "df.duplicated().any()"
   ]
  },
  {
   "cell_type": "markdown",
   "id": "12039e24",
   "metadata": {},
   "source": [
    "# Get overal statistics of data frame"
   ]
  },
  {
   "cell_type": "code",
   "execution_count": 11,
   "id": "be521e31",
   "metadata": {},
   "outputs": [
    {
     "data": {
      "text/html": [
       "<div>\n",
       "<style scoped>\n",
       "    .dataframe tbody tr th:only-of-type {\n",
       "        vertical-align: middle;\n",
       "    }\n",
       "\n",
       "    .dataframe tbody tr th {\n",
       "        vertical-align: top;\n",
       "    }\n",
       "\n",
       "    .dataframe thead th {\n",
       "        text-align: right;\n",
       "    }\n",
       "</style>\n",
       "<table border=\"1\" class=\"dataframe\">\n",
       "  <thead>\n",
       "    <tr style=\"text-align: right;\">\n",
       "      <th></th>\n",
       "      <th>Rank</th>\n",
       "      <th>Year</th>\n",
       "      <th>Runtime (Minutes)</th>\n",
       "      <th>Rating</th>\n",
       "      <th>Votes</th>\n",
       "      <th>Revenue (Millions)</th>\n",
       "      <th>Metascore</th>\n",
       "    </tr>\n",
       "  </thead>\n",
       "  <tbody>\n",
       "    <tr>\n",
       "      <th>count</th>\n",
       "      <td>1000.000000</td>\n",
       "      <td>1000.000000</td>\n",
       "      <td>1000.000000</td>\n",
       "      <td>1000.000000</td>\n",
       "      <td>1.000000e+03</td>\n",
       "      <td>872.000000</td>\n",
       "      <td>936.000000</td>\n",
       "    </tr>\n",
       "    <tr>\n",
       "      <th>mean</th>\n",
       "      <td>500.500000</td>\n",
       "      <td>2012.783000</td>\n",
       "      <td>113.172000</td>\n",
       "      <td>6.723200</td>\n",
       "      <td>1.698083e+05</td>\n",
       "      <td>82.956376</td>\n",
       "      <td>58.985043</td>\n",
       "    </tr>\n",
       "    <tr>\n",
       "      <th>std</th>\n",
       "      <td>288.819436</td>\n",
       "      <td>3.205962</td>\n",
       "      <td>18.810908</td>\n",
       "      <td>0.945429</td>\n",
       "      <td>1.887626e+05</td>\n",
       "      <td>103.253540</td>\n",
       "      <td>17.194757</td>\n",
       "    </tr>\n",
       "    <tr>\n",
       "      <th>min</th>\n",
       "      <td>1.000000</td>\n",
       "      <td>2006.000000</td>\n",
       "      <td>66.000000</td>\n",
       "      <td>1.900000</td>\n",
       "      <td>6.100000e+01</td>\n",
       "      <td>0.000000</td>\n",
       "      <td>11.000000</td>\n",
       "    </tr>\n",
       "    <tr>\n",
       "      <th>25%</th>\n",
       "      <td>250.750000</td>\n",
       "      <td>2010.000000</td>\n",
       "      <td>100.000000</td>\n",
       "      <td>6.200000</td>\n",
       "      <td>3.630900e+04</td>\n",
       "      <td>13.270000</td>\n",
       "      <td>47.000000</td>\n",
       "    </tr>\n",
       "    <tr>\n",
       "      <th>50%</th>\n",
       "      <td>500.500000</td>\n",
       "      <td>2014.000000</td>\n",
       "      <td>111.000000</td>\n",
       "      <td>6.800000</td>\n",
       "      <td>1.107990e+05</td>\n",
       "      <td>47.985000</td>\n",
       "      <td>59.500000</td>\n",
       "    </tr>\n",
       "    <tr>\n",
       "      <th>75%</th>\n",
       "      <td>750.250000</td>\n",
       "      <td>2016.000000</td>\n",
       "      <td>123.000000</td>\n",
       "      <td>7.400000</td>\n",
       "      <td>2.399098e+05</td>\n",
       "      <td>113.715000</td>\n",
       "      <td>72.000000</td>\n",
       "    </tr>\n",
       "    <tr>\n",
       "      <th>max</th>\n",
       "      <td>1000.000000</td>\n",
       "      <td>2016.000000</td>\n",
       "      <td>191.000000</td>\n",
       "      <td>9.000000</td>\n",
       "      <td>1.791916e+06</td>\n",
       "      <td>936.630000</td>\n",
       "      <td>100.000000</td>\n",
       "    </tr>\n",
       "  </tbody>\n",
       "</table>\n",
       "</div>"
      ],
      "text/plain": [
       "              Rank         Year  Runtime (Minutes)       Rating         Votes  \\\n",
       "count  1000.000000  1000.000000        1000.000000  1000.000000  1.000000e+03   \n",
       "mean    500.500000  2012.783000         113.172000     6.723200  1.698083e+05   \n",
       "std     288.819436     3.205962          18.810908     0.945429  1.887626e+05   \n",
       "min       1.000000  2006.000000          66.000000     1.900000  6.100000e+01   \n",
       "25%     250.750000  2010.000000         100.000000     6.200000  3.630900e+04   \n",
       "50%     500.500000  2014.000000         111.000000     6.800000  1.107990e+05   \n",
       "75%     750.250000  2016.000000         123.000000     7.400000  2.399098e+05   \n",
       "max    1000.000000  2016.000000         191.000000     9.000000  1.791916e+06   \n",
       "\n",
       "       Revenue (Millions)   Metascore  \n",
       "count          872.000000  936.000000  \n",
       "mean            82.956376   58.985043  \n",
       "std            103.253540   17.194757  \n",
       "min              0.000000   11.000000  \n",
       "25%             13.270000   47.000000  \n",
       "50%             47.985000   59.500000  \n",
       "75%            113.715000   72.000000  \n",
       "max            936.630000  100.000000  "
      ]
     },
     "execution_count": 11,
     "metadata": {},
     "output_type": "execute_result"
    }
   ],
   "source": [
    "df.describe()"
   ]
  },
  {
   "cell_type": "markdown",
   "id": "d3f403cd",
   "metadata": {},
   "source": [
    "# Display title of movie having running >=180 mins"
   ]
  },
  {
   "cell_type": "code",
   "execution_count": 12,
   "id": "3de9f833",
   "metadata": {},
   "outputs": [
    {
     "data": {
      "text/plain": [
       "Index(['Rank', 'Title', 'Genre', 'Description', 'Director', 'Actors', 'Year',\n",
       "       'Runtime (Minutes)', 'Rating', 'Votes', 'Revenue (Millions)',\n",
       "       'Metascore'],\n",
       "      dtype='object')"
      ]
     },
     "execution_count": 12,
     "metadata": {},
     "output_type": "execute_result"
    }
   ],
   "source": [
    "df.columns"
   ]
  },
  {
   "cell_type": "code",
   "execution_count": 13,
   "id": "159b00a0",
   "metadata": {},
   "outputs": [
    {
     "data": {
      "text/plain": [
       "82     The Wolf of Wall Street\n",
       "88           The Hateful Eight\n",
       "311             La vie d'Adèle\n",
       "828                 Grindhouse\n",
       "965              Inland Empire\n",
       "Name: Title, dtype: object"
      ]
     },
     "execution_count": 13,
     "metadata": {},
     "output_type": "execute_result"
    }
   ],
   "source": [
    "df[df['Runtime (Minutes)']>=180]['Title']"
   ]
  },
  {
   "cell_type": "markdown",
   "id": "e62a155f",
   "metadata": {},
   "source": [
    "# In which year there was highest average votings"
   ]
  },
  {
   "cell_type": "code",
   "execution_count": 14,
   "id": "cb900be6",
   "metadata": {},
   "outputs": [
    {
     "data": {
      "text/plain": [
       "Year\n",
       "2012    285226.093750\n",
       "2008    275505.384615\n",
       "2006    269289.954545\n",
       "2009    255780.647059\n",
       "2010    252782.316667\n",
       "2007    244331.037736\n",
       "2011    240790.301587\n",
       "2013    219049.648352\n",
       "2014    203930.224490\n",
       "2015    115726.220472\n",
       "2016     48591.754209\n",
       "Name: Votes, dtype: float64"
      ]
     },
     "execution_count": 14,
     "metadata": {},
     "output_type": "execute_result"
    }
   ],
   "source": [
    "df.groupby('Year')['Votes'].mean().sort_values(ascending=False)"
   ]
  },
  {
   "cell_type": "code",
   "execution_count": 15,
   "id": "53ceb306",
   "metadata": {},
   "outputs": [
    {
     "data": {
      "text/plain": [
       "Text(0.5, 1.0, 'votes by year')"
      ]
     },
     "execution_count": 15,
     "metadata": {},
     "output_type": "execute_result"
    },
    {
     "data": {
      "image/png": "[encoded data removed]",
      "text/plain": [
       "<Figure size 640x480 with 1 Axes>"
      ]
     },
     "metadata": {},
     "output_type": "display_data"
    }
   ],
   "source": [
    "sns.barplot(x='Year',y='Votes',data=df)\n",
    "plt.title('votes by year')"
   ]
  },
  {
   "cell_type": "markdown",
   "id": "7eb728ac",
   "metadata": {},
   "source": [
    "# In which year there is an average highest reviewnew"
   ]
  },
  {
   "cell_type": "code",
   "execution_count": 16,
   "id": "b95f3b58",
   "metadata": {},
   "outputs": [
    {
     "data": {
      "text/plain": [
       "Index(['Rank', 'Title', 'Genre', 'Description', 'Director', 'Actors', 'Year',\n",
       "       'Runtime (Minutes)', 'Rating', 'Votes', 'Revenue (Millions)',\n",
       "       'Metascore'],\n",
       "      dtype='object')"
      ]
     },
     "execution_count": 16,
     "metadata": {},
     "output_type": "execute_result"
    }
   ],
   "source": [
    "df.columns"
   ]
  },
  {
   "cell_type": "code",
   "execution_count": 17,
   "id": "ad8a0c02",
   "metadata": {},
   "outputs": [
    {
     "data": {
      "text/plain": [
       "Year\n",
       "2009    112.601277\n",
       "2012    107.973281\n",
       "2010    105.081579\n",
       "2008     99.082745\n",
       "2007     87.882245\n",
       "2011     87.612258\n",
       "2013     87.121818\n",
       "2006     86.296667\n",
       "2014     85.078723\n",
       "2015     78.355044\n",
       "2016     54.690976\n",
       "Name: Revenue (Millions), dtype: float64"
      ]
     },
     "execution_count": 17,
     "metadata": {},
     "output_type": "execute_result"
    }
   ],
   "source": [
    "df.groupby('Year')['Revenue (Millions)'].mean().sort_values(ascending=False)"
   ]
  },
  {
   "cell_type": "code",
   "execution_count": 18,
   "id": "d52cff16",
   "metadata": {},
   "outputs": [
    {
     "data": {
      "text/plain": [
       "Text(0.5, 1.0, 'Revenue (Millions) by Year')"
      ]
     },
     "execution_count": 18,
     "metadata": {},
     "output_type": "execute_result"
    },
    {
     "data": {
      "image/png": "[encoded data removed]",
      "text/plain": [
       "<Figure size 640x480 with 1 Axes>"
      ]
     },
     "metadata": {},
     "output_type": "display_data"
    }
   ],
   "source": [
    "sns.barplot(x='Year',y='Revenue (Millions)',data=df)\n",
    "plt.title('Revenue (Millions) by Year')"
   ]
  },
  {
   "cell_type": "markdown",
   "id": "1d1f0d26",
   "metadata": {},
   "source": [
    "# Find avarage rating of each Director"
   ]
  },
  {
   "cell_type": "code",
   "execution_count": 19,
   "id": "2ead35f6",
   "metadata": {},
   "outputs": [
    {
     "data": {
      "text/plain": [
       "Index(['Rank', 'Title', 'Genre', 'Description', 'Director', 'Actors', 'Year',\n",
       "       'Runtime (Minutes)', 'Rating', 'Votes', 'Revenue (Millions)',\n",
       "       'Metascore'],\n",
       "      dtype='object')"
      ]
     },
     "execution_count": 19,
     "metadata": {},
     "output_type": "execute_result"
    }
   ],
   "source": [
    "df.columns"
   ]
  },
  {
   "cell_type": "code",
   "execution_count": 20,
   "id": "db0c975b",
   "metadata": {},
   "outputs": [
    {
     "data": {
      "text/plain": [
       "Director\n",
       "Nitesh Tiwari        8.80\n",
       "Christopher Nolan    8.68\n",
       "Olivier Nakache      8.60\n",
       "Makoto Shinkai       8.60\n",
       "Aamir Khan           8.50\n",
       "                     ... \n",
       "Micheal Bafaro       3.50\n",
       "Jonathan Holbrook    3.20\n",
       "Shawn Burkett        2.70\n",
       "James Wong           2.70\n",
       "Jason Friedberg      1.90\n",
       "Name: Rating, Length: 644, dtype: float64"
      ]
     },
     "execution_count": 20,
     "metadata": {},
     "output_type": "execute_result"
    }
   ],
   "source": [
    "df.groupby('Director')['Rating'].mean().sort_values(ascending=False)"
   ]
  },
  {
   "cell_type": "markdown",
   "id": "f64bbced",
   "metadata": {},
   "source": [
    "# Display top 10 langhty movie title vs runtime"
   ]
  },
  {
   "cell_type": "code",
   "execution_count": 21,
   "id": "62353ba6",
   "metadata": {},
   "outputs": [
    {
     "data": {
      "text/plain": [
       "array(['Guardians of the Galaxy', 'Prometheus', 'Split', 'Sing',\n",
       "       'Suicide Squad', 'The Great Wall', 'La La Land', 'Mindhorn',\n",
       "       'The Lost City of Z', 'Passengers',\n",
       "       'Fantastic Beasts and Where to Find Them', 'Hidden Figures',\n",
       "       'Rogue One', 'Moana', 'Colossal', 'The Secret Life of Pets',\n",
       "       'Hacksaw Ridge', 'Jason Bourne', 'Lion', 'Arrival', 'Gold',\n",
       "       'Manchester by the Sea', 'Hounds of Love', 'Trolls',\n",
       "       'Independence Day: Resurgence', 'Paris pieds nus',\n",
       "       'Bahubali: The Beginning', 'Dead Awake', 'Bad Moms',\n",
       "       \"Assassin's Creed\", 'Why Him?', 'Nocturnal Animals',\n",
       "       'X-Men: Apocalypse', 'Deadpool',\n",
       "       'Resident Evil: The Final Chapter', 'Captain America: Civil War',\n",
       "       'Interstellar', 'Doctor Strange', 'The Magnificent Seven',\n",
       "       '5- 25- 77', 'Sausage Party', 'Moonlight',\n",
       "       \"Don't Fuck in the Woods\", 'The Founder', 'Lowriders',\n",
       "       'Pirates of the Caribbean: On Stranger Tides', 'Miss Sloane',\n",
       "       'Fallen', 'Star Trek Beyond', 'The Last Face',\n",
       "       'Star Wars: Episode VII - The Force Awakens',\n",
       "       'Underworld: Blood Wars', \"Mother's Day\", 'John Wick',\n",
       "       'The Dark Knight', 'Silence', \"Don't Breathe\", 'Me Before You',\n",
       "       'Their Finest', 'Sully', 'Batman v Superman: Dawn of Justice',\n",
       "       'The Autopsy of Jane Doe', 'The Girl on the Train',\n",
       "       'Fifty Shades of Grey', 'The Prestige',\n",
       "       'Kingsman: The Secret Service', 'Patriots Day',\n",
       "       'Mad Max: Fury Road', 'Wakefield', 'Deepwater Horizon',\n",
       "       'The Promise', 'Allied', 'A Monster Calls', 'Collateral Beauty',\n",
       "       'Zootopia', \"Pirates of the Caribbean: At World's End\",\n",
       "       'The Avengers', 'Inglourious Basterds',\n",
       "       \"Pirates of the Caribbean: Dead Man's Chest\", 'Ghostbusters',\n",
       "       'Inception', 'Captain Fantastic', 'The Wolf of Wall Street',\n",
       "       'Gone Girl', 'Furious Seven', 'Jurassic World', 'Live by Night',\n",
       "       'Avatar', 'The Hateful Eight', 'The Accountant', 'Prisoners',\n",
       "       'Warcraft', 'The Help', 'War Dogs', 'Avengers: Age of Ultron',\n",
       "       'The Nice Guys', 'Kimi no na wa', 'The Void', 'Personal Shopper',\n",
       "       'The Departed', 'Legend', 'Thor', 'The Martian', 'Contratiempo',\n",
       "       'The Man from U.N.C.L.E.', 'Hell or High Water', 'The Comedian',\n",
       "       'The Legend of Tarzan', 'All We Had', 'Ex Machina',\n",
       "       'The Belko Experiment', '12 Years a Slave', 'The Bad Batch', '300',\n",
       "       'Harry Potter and the Deathly Hallows: Part 2',\n",
       "       'Office Christmas Party', 'The Neon Demon', 'Dangal',\n",
       "       '10 Cloverfield Lane', 'Finding Dory',\n",
       "       \"Miss Peregrine's Home for Peculiar Children\", 'Divergent',\n",
       "       'Mike and Dave Need Wedding Dates', 'Boyka: Undisputed IV',\n",
       "       'The Dark Knight Rises', 'The Jungle Book',\n",
       "       'Transformers: Age of Extinction', 'Nerve', 'Mamma Mia!',\n",
       "       'The Revenant', 'Fences', 'Into the Woods', 'The Shallows',\n",
       "       'Whiplash', 'Furious 6', 'The Place Beyond the Pines',\n",
       "       'No Country for Old Men', 'The Great Gatsby', 'Shutter Island',\n",
       "       'Brimstone', 'Star Trek', 'Diary of a Wimpy Kid', 'The Big Short',\n",
       "       'Room', 'Django Unchained', 'Ah-ga-ssi', 'The Edge of Seventeen',\n",
       "       'Watchmen', 'Superbad', 'Inferno', 'The BFG', 'The Hunger Games',\n",
       "       'White Girl', 'Sicario', 'Twin Peaks: The Missing Pieces',\n",
       "       'Aliens vs Predator - Requiem', 'Pacific Rim',\n",
       "       'Crazy, Stupid, Love.', 'Scott Pilgrim vs. the World', 'Hot Fuzz',\n",
       "       'Mine', 'Free Fire', 'X-Men: Days of Future Past',\n",
       "       'Jack Reacher: Never Go Back', 'Casino Royale', 'Twilight',\n",
       "       'Now You See Me 2', 'Woman in Gold', '13 Hours', 'Spectre',\n",
       "       'Nightcrawler', 'Kubo and the Two Strings', 'Beyond the Gates',\n",
       "       'Her', 'Frozen', 'Tomorrowland', 'Dawn of the Planet of the Apes',\n",
       "       'Tropic Thunder', 'The Conjuring 2', 'Ant-Man',\n",
       "       \"Bridget Jones's Baby\", 'The VVitch: A New-England Folktale',\n",
       "       'Cinderella', 'Realive', 'Forushande', 'Love',\n",
       "       \"Billy Lynn's Long Halftime Walk\", 'Crimson Peak', 'Drive',\n",
       "       'Trainwreck', 'The Light Between Oceans', 'Below Her Mouth',\n",
       "       'Spotlight', 'Morgan', 'Warrior',\n",
       "       'Captain America: The First Avenger', 'Hacker', 'Into the Wild',\n",
       "       'The Imitation Game', 'Central Intelligence', 'Edge of Tomorrow',\n",
       "       'A Cure for Wellness', 'Snowden', 'Iron Man', 'Allegiant',\n",
       "       'X: First Class', 'Raw (II)', 'Paterson', 'Bridesmaids',\n",
       "       'The Girl with All the Gifts', 'San Andreas', 'Spring Breakers',\n",
       "       'Transformers', 'Old Boy', 'Thor: The Dark World', 'Gods of Egypt',\n",
       "       'Captain America: The Winter Soldier', 'Monster Trucks',\n",
       "       'A Dark Song', 'Kick-Ass', 'Hardcore Henry', 'Cars', 'It Follows',\n",
       "       'The Girl with the Dragon Tattoo', \"We're the Millers\",\n",
       "       'American Honey', 'The Lobster', 'Predators', 'Maleficent',\n",
       "       'Rupture', \"Pan's Labyrinth\", 'A Kind of Murder', 'Apocalypto',\n",
       "       'Mission: Impossible - Rogue Nation', \"The Huntsman: Winter's War\",\n",
       "       'The Perks of Being a Wallflower', 'Jackie',\n",
       "       'The Disappointments Room', 'The Grand Budapest Hotel', 'The Host',\n",
       "       'Fury', 'Inside Out', 'Rock Dog', 'Terminator Genisys',\n",
       "       'Percy Jackson & the Olympians: The Lightning Thief',\n",
       "       'Les Misérables', 'Children of Men', '20th Century Women', 'Spy',\n",
       "       'The Intouchables', 'Bonjour Anne', 'Kynodontas',\n",
       "       'Straight Outta Compton', 'The Amazing Spider-Man 2',\n",
       "       'The Conjuring', 'The Hangover', 'Battleship',\n",
       "       'Rise of the Planet of the Apes', 'Lights Out',\n",
       "       'Norman: The Moderate Rise and Tragic Fall of a New York Fixer',\n",
       "       'Birdman or (The Unexpected Virtue of Ignorance)', 'Black Swan',\n",
       "       'Dear White People', 'Nymphomaniac: Vol. I',\n",
       "       'Teenage Mutant Ninja Turtles: Out of the Shadows', 'Knock Knock',\n",
       "       'Dirty Grandpa', 'Cloud Atlas', 'X-Men Origins: Wolverine',\n",
       "       'Satanic', 'Skyfall', 'The Hobbit: An Unexpected Journey',\n",
       "       '21 Jump Street', 'Sing Street', 'Ballerina', 'Oblivion',\n",
       "       '22 Jump Street', 'Zodiac', 'Everybody Wants Some!!',\n",
       "       'Iron Man Three', 'Now You See Me', 'Sherlock Holmes',\n",
       "       'Death Proof', 'The Danish Girl', 'Hercules', 'Sucker Punch',\n",
       "       'Keeping Up with the Joneses', 'Jupiter Ascending', 'Masterminds',\n",
       "       'Iris', 'Busanhaeng', 'Pitch Perfect',\n",
       "       'Neighbors 2: Sorority Rising', 'The Exception', 'Man of Steel',\n",
       "       'The Choice', 'Ice Age: Collision Course', 'The Devil Wears Prada',\n",
       "       'The Infiltrator', 'There Will Be Blood', 'The Equalizer',\n",
       "       'Lone Survivor', 'The Cabin in the Woods', 'The House Bunny',\n",
       "       \"She's Out of My League\", 'Inherent Vice',\n",
       "       'Alice Through the Looking Glass', 'Vincent N Roxxy',\n",
       "       'The Fast and the Furious: Tokyo Drift', 'How to Be Single',\n",
       "       'The Blind Side', \"La vie d'Adèle\", 'The Babadook',\n",
       "       'The Hobbit: The Battle of the Five Armies',\n",
       "       'Harry Potter and the Order of the Phoenix', 'Snowpiercer',\n",
       "       'The 5th Wave', 'The Stakelander', 'The Visit', 'Fast Five',\n",
       "       'Step Up', 'Lovesong', 'RocknRolla', 'In Time',\n",
       "       'The Social Network', 'The Last Witch Hunter',\n",
       "       'Victor Frankenstein', 'A Street Cat Named Bob', 'Green Room',\n",
       "       'Blackhat', 'Storks', 'American Sniper', 'Dallas Buyers Club',\n",
       "       'Lincoln', 'Rush', 'Before I Wake', 'Silver Linings Playbook',\n",
       "       'Tracktown', 'The Fault in Our Stars', 'Blended', 'Fast & Furious',\n",
       "       'Looper', 'White House Down', \"Pete's Dragon\", 'Spider-Man 3',\n",
       "       'The Three Musketeers', 'Stardust', 'American Hustle',\n",
       "       \"Jennifer's Body\", 'Midnight in Paris', 'Lady Macbeth', 'Joy',\n",
       "       'The Dressmaker', 'Café Society', 'Insurgent', 'Seventh Son',\n",
       "       'Demain tout commence', 'The Theory of Everything',\n",
       "       'This Is the End', 'About Time', 'Step Brothers', 'Clown',\n",
       "       'Star Trek Into Darkness', 'Zombieland', 'Hail, Caesar!',\n",
       "       'Slumdog Millionaire', 'The Twilight Saga: Breaking Dawn - Part 2',\n",
       "       'American Wrestler: The Wizard', 'The Amazing Spider-Man',\n",
       "       'Ben-Hur', 'Sleight', 'The Maze Runner', 'Criminal', 'Wanted',\n",
       "       'Florence Foster Jenkins', 'Collide', 'Black Mass', 'Creed',\n",
       "       'Swiss Army Man', 'The Expendables 3', 'What We Do in the Shadows',\n",
       "       'Southpaw', 'Hush', 'Bridge of Spies', 'The Lego Movie', 'Everest',\n",
       "       'Pixels', 'Robin Hood', 'The Wolverine', 'John Carter', 'Keanu',\n",
       "       'The Gunman', 'Steve Jobs', 'Whisky Galore', 'Grown Ups 2',\n",
       "       'The Age of Adaline', 'The Incredible Hulk', 'Couples Retreat',\n",
       "       'Absolutely Anything', 'Magic Mike', 'Minions', 'The Black Room',\n",
       "       'Bronson', 'Despicable Me', 'The Best of Me', 'The Invitation',\n",
       "       'Zero Dark Thirty', 'Tangled',\n",
       "       'The Hunger Games: Mockingjay - Part 2', 'Vacation', 'Taken',\n",
       "       'Pitch Perfect 2', 'Monsters University', 'Elle',\n",
       "       'Mechanic: Resurrection', 'Tusk', \"The Headhunter's Calling\",\n",
       "       'Atonement', 'Harry Potter and the Deathly Hallows: Part 1',\n",
       "       'Shame', 'Hanna', 'The Babysitters',\n",
       "       'Pride and Prejudice and Zombies', '300: Rise of an Empire',\n",
       "       'London Has Fallen', 'The Curious Case of Benjamin Button',\n",
       "       'Sin City: A Dame to Kill For', 'The Bourne Ultimatum',\n",
       "       'Srpski film', 'The Purge: Election Year', '3 Idiots',\n",
       "       'Zoolander 2', 'World War Z',\n",
       "       'Mission: Impossible - Ghost Protocol', 'Let Me Make You a Martyr',\n",
       "       'Filth', 'The Longest Ride', 'The imposible', 'Kick-Ass 2',\n",
       "       'Folk Hero & Funny Guy', 'Oz the Great and Powerful', 'Brooklyn',\n",
       "       'Coraline', 'Blue Valentine', 'The Thinning', 'Silent Hill',\n",
       "       'Dredd', 'Hunt for the Wilderpeople', 'Big Hero 6', 'Carrie',\n",
       "       'Iron Man 2', 'Demolition', 'Pandorum', 'Olympus Has Fallen',\n",
       "       'I Am Number Four', 'Jagten', 'The Proposal', 'Get Hard',\n",
       "       'Just Go with It', 'Revolutionary Road', 'The Town', 'The Boy',\n",
       "       'Denial', 'Predestination', 'Goosebumps',\n",
       "       'Sherlock Holmes: A Game of Shadows', 'Salt', 'Enemy',\n",
       "       'District 9', 'The Other Guys', 'American Gangster',\n",
       "       'Marie Antoinette', '2012',\n",
       "       'Harry Potter and the Half-Blood Prince', 'Argo',\n",
       "       'Eddie the Eagle', 'The Lives of Others', 'Pet', 'Paint It Black',\n",
       "       'Macbeth', 'Forgetting Sarah Marshall', 'The Giver', 'Triple 9',\n",
       "       'Perfetti sconosciuti', 'Angry Birds', 'Moonrise Kingdom',\n",
       "       'Hairspray', 'Safe Haven', 'Focus', 'Ratatouille', 'Stake Land',\n",
       "       'The Book of Eli', 'Cloverfield', 'Point Break', 'Under the Skin',\n",
       "       'I Am Legend', 'Men in Black 3', 'Super 8', 'Law Abiding Citizen',\n",
       "       'Up', 'Maze Runner: The Scorch Trials', 'Carol', 'Imperium',\n",
       "       'Youth', 'Mr. Nobody', 'City of Tiny Lights', 'Savages',\n",
       "       '(500) Days of Summer', 'Movie 43', 'Gravity',\n",
       "       'The Boy in the Striped Pyjamas', 'Shooter', 'The Happening',\n",
       "       'Bone Tomahawk', 'Magic Mike XXL', 'Easy A',\n",
       "       'Exodus: Gods and Kings', 'Chappie',\n",
       "       'The Hobbit: The Desolation of Smaug', 'Half of a Yellow Sun',\n",
       "       'Anthropoid', 'The Counselor', 'Viking', 'Whiskey Tango Foxtrot',\n",
       "       'Trust', 'Birth of the Dragon', 'Elysium', 'The Green Inferno',\n",
       "       'Godzilla', 'The Bourne Legacy', 'A Good Year', 'Friend Request',\n",
       "       'Deja Vu', 'Lucy', 'A Quiet Passion', 'Need for Speed',\n",
       "       'Jack Reacher', 'The Do-Over', 'True Crimes', 'American Pastoral',\n",
       "       'The Ghost Writer', 'Limitless', 'Spectral', 'P.S. I Love You',\n",
       "       'Zipper', 'Midnight Special', \"Don't Think Twice\",\n",
       "       'Alice in Wonderland', 'Chuck', 'I, Daniel Blake', 'The Break-Up',\n",
       "       'Loving', 'Fantastic Four', 'The Survivalist', 'Colonia',\n",
       "       'The Boy Next Door', 'The Gift', 'Dracula Untold',\n",
       "       'In the Heart of the Sea', 'Idiocracy', 'The Expendables',\n",
       "       'Evil Dead', 'Sinister', 'Wreck-It Ralph',\n",
       "       'Snow White and the Huntsman', 'Pan',\n",
       "       'Transformers: Dark of the Moon', 'Juno',\n",
       "       'A Hologram for the King', 'Money Monster', 'The Other Woman',\n",
       "       'Enchanted', 'The Intern', 'Little Miss Sunshine',\n",
       "       'Bleed for This', 'Clash of the Titans', 'The Finest Hours',\n",
       "       'Tron', 'The Hunger Games: Catching Fire', 'All Good Things',\n",
       "       'Kickboxer: Vengeance', 'The Last Airbender', 'Sex Tape',\n",
       "       \"What to Expect When You're Expecting\", 'Moneyball', 'Ghost Rider',\n",
       "       'Unbroken', 'Immortals', 'Sunshine', 'Brave',\n",
       "       'Män som hatar kvinnor', 'Adoration', 'The Drop', \"She's the Man\",\n",
       "       \"Daddy's Home\", 'Let Me In', 'Never Back Down', 'Grimsby', 'Moon',\n",
       "       'Megamind', 'Gangster Squad', 'Blood Father',\n",
       "       \"He's Just Not That Into You\", 'Kung Fu Panda 3',\n",
       "       'The Rise of the Krays', 'Handsome Devil', \"Winter's Bone\",\n",
       "       'Horrible Bosses', 'Mommy', 'Hellboy II: The Golden Army',\n",
       "       'Beautiful Creatures', 'Toni Erdmann', 'The Lovely Bones',\n",
       "       'The Assassination of Jesse James by the Coward Robert Ford',\n",
       "       'Don Jon', 'Bastille Day', \"2307: Winter's Dream\",\n",
       "       'Free State of Jones', 'Mr. Right',\n",
       "       'The Secret Life of Walter Mitty', 'Dope', 'Underworld Awakening',\n",
       "       'Antichrist', 'Friday the 13th', 'Taken 3', 'Total Recall',\n",
       "       'X-Men: The Last Stand', 'The Escort', 'The Whole Truth',\n",
       "       'Night at the Museum: Secret of the Tomb', 'Love & Other Drugs',\n",
       "       'The Interview', 'Megan Is Missing', 'WALL·E', 'Knocked Up',\n",
       "       'Source Code', 'Lawless', 'Unfriended', 'American Reunion',\n",
       "       'The Pursuit of Happyness', 'Relatos salvajes', 'The Ridiculous 6',\n",
       "       'Frantz', 'Viral', 'Gran Torino', 'Burnt', 'Tall Men',\n",
       "       'Sleeping Beauty', 'Vampire Academy',\n",
       "       'Sweeney Todd: The Demon Barber of Fleet Street', 'Solace',\n",
       "       'Insidious', 'Popstar: Never Stop Never Stopping', 'The Levelling',\n",
       "       'Public Enemies', 'Boyhood', 'Teenage Mutant Ninja Turtles',\n",
       "       'Eastern Promises', 'The Daughter', 'Pineapple Express',\n",
       "       'The First Time', 'Gone Baby Gone', 'The Heat', \"L'avenir\",\n",
       "       'Anna Karenina', 'Regression', 'Ted 2', 'Pain & Gain',\n",
       "       'Blood Diamond', \"Devil's Knot\", 'Child 44', 'The Hurt Locker',\n",
       "       'Green Lantern', 'War on Everyone', 'The Mist', 'Escape Plan',\n",
       "       'Love, Rosie', 'The DUFF', 'The Age of Shadows',\n",
       "       'The Hunger Games: Mockingjay - Part 1',\n",
       "       'We Need to Talk About Kevin', 'Love & Friendship',\n",
       "       'The Mortal Instruments: City of Bones', 'Seven Pounds',\n",
       "       \"The King's Speech\", 'Hunger', 'Jumper', 'Toy Story 3',\n",
       "       'Tinker Tailor Soldier Spy', 'Resident Evil: Retribution',\n",
       "       'Dear Zindagi', 'Genius', 'Pompeii', 'Life of Pi',\n",
       "       \"Hachi: A Dog's Tale\", '10 Years', 'I Origins',\n",
       "       'Live Free or Die Hard', 'The Matchbreaker', 'Funny Games', 'Ted',\n",
       "       'RED', 'Australia', 'Faster', 'The Neighbor',\n",
       "       'The Adjustment Bureau', 'The Hollars', 'The Judge',\n",
       "       'Closed Circuit', 'Transformers: Revenge of the Fallen',\n",
       "       'La tortue rouge', 'The Book of Life', 'Incendies',\n",
       "       'The Heartbreak Kid', 'Happy Feet', 'Entourage', 'The Strangers',\n",
       "       'Noah', 'Neighbors', 'Nymphomaniac: Vol. II', 'Wild', 'Grown Ups',\n",
       "       'Blair Witch', 'The Karate Kid', 'Dark Shadows',\n",
       "       'Friends with Benefits', 'The Illusionist', 'The A-Team',\n",
       "       'The Guest', 'The Internship', 'Paul', 'This Beautiful Fantastic',\n",
       "       'The Da Vinci Code', 'Mr. Church', 'Hugo',\n",
       "       \"The Blackcoat's Daughter\", 'Body of Lies', 'Knight of Cups',\n",
       "       'The Mummy: Tomb of the Dragon Emperor', 'The Boss',\n",
       "       'Hands of Stone', 'El secreto de sus ojos', 'True Grit',\n",
       "       'We Are Your Friends', 'A Million Ways to Die in the West',\n",
       "       'Only for One Night', \"Rules Don't Apply\", 'Ouija: Origin of Evil',\n",
       "       'Percy Jackson: Sea of Monsters', 'Fracture', 'Oculus',\n",
       "       'In Bruges', 'This Means War', 'Lída Baarová', 'The Road',\n",
       "       'Lavender', 'Deuces', 'Conan the Barbarian', 'The Fighter',\n",
       "       'August Rush', 'Chef', 'Eye in the Sky', 'Eagle Eye', 'The Purge',\n",
       "       'PK', \"Ender's Game\",\n",
       "       'Indiana Jones and the Kingdom of the Crystal Skull',\n",
       "       'Paper Towns', 'High-Rise', 'Quantum of Solace', 'The Assignment',\n",
       "       'How to Train Your Dragon', 'Lady in the Water', 'The Fountain',\n",
       "       'Cars 2', '31', 'Final Girl', 'Chalk It Up',\n",
       "       'The Man Who Knew Infinity', 'Unknown', 'Self/less', 'Mr. Brooks',\n",
       "       'Tramps', 'Before We Go', 'Captain Phillips',\n",
       "       'The Secret Scripture', 'Max Steel', 'Hotel Transylvania 2',\n",
       "       'Hancock', 'Sisters', 'The Family', 'Zack and Miri Make a Porno',\n",
       "       'Ma vie de Courgette', 'Man on a Ledge', 'No Strings Attached',\n",
       "       'Rescue Dawn', 'Despicable Me 2', 'A Walk Among the Tombstones',\n",
       "       \"The World's End\", 'Yoga Hosers', 'Seven Psychopaths', 'Beowulf',\n",
       "       'Jack Ryan: Shadow Recruit', '1408', 'The Gambler',\n",
       "       'Prince of Persia: The Sands of Time', 'The Spectacular Now',\n",
       "       'A United Kingdom', 'USS Indianapolis: Men of Courage',\n",
       "       'Turbo Kid', 'Mama', 'Orphan', 'To Rome with Love',\n",
       "       'Fantastic Mr. Fox', 'Inside Man', 'I.T.', '127 Hours',\n",
       "       'Annabelle', 'Wolves at the Door', 'Suite Française',\n",
       "       'The Imaginarium of Doctor Parnassus',\n",
       "       'G.I. Joe: The Rise of Cobra', 'Christine', 'Man Down',\n",
       "       'Crawlspace', 'Shut In', 'The Warriors Gate', 'Grindhouse',\n",
       "       'Disaster Movie', 'Rocky Balboa', 'Diary of a Wimpy Kid: Dog Days',\n",
       "       'Jane Eyre', \"Fool's Gold\", 'The Dictator', 'The Loft',\n",
       "       'Bacalaureat', \"You Don't Mess with the Zohan\", 'Exposed',\n",
       "       'Maudie', 'Horrible Bosses 2', 'A Bigger Splash', 'Melancholia',\n",
       "       'The Princess and the Frog', 'Unstoppable', 'Flight', 'Home',\n",
       "       'La migliore offerta', 'Mean Dreams', '42', '21', 'Begin Again',\n",
       "       'Out of the Furnace', 'Vicky Cristina Barcelona', 'Kung Fu Panda',\n",
       "       'Barbershop: The Next Cut', 'Terminator Salvation',\n",
       "       'Freedom Writers', 'The Hills Have Eyes', 'Changeling',\n",
       "       'Remember Me', 'Koe no katachi',\n",
       "       'Alexander and the Terrible, Horrible, No Good, Very Bad Day',\n",
       "       'Locke', 'The 9th Life of Louis Drax', 'Horns', 'Indignation',\n",
       "       'The Stanford Prison Experiment',\n",
       "       'Diary of a Wimpy Kid: Rodrick Rules', 'Mission: Impossible III',\n",
       "       'En man som heter Ove', 'Dragonball Evolution', 'Red Dawn',\n",
       "       'One Day', 'Life as We Know It', '28 Weeks Later', 'Warm Bodies',\n",
       "       'Blue Jasmine', 'G.I. Joe: Retaliation', 'Wrath of the Titans',\n",
       "       'Shin Gojira', 'Saving Mr. Banks', 'Transcendence', 'Rio',\n",
       "       'Equals', 'Babel', 'The Tree of Life', 'The Lucky One',\n",
       "       'Piranha 3D', '50/50', 'The Intent', 'This Is 40', 'Real Steel',\n",
       "       'Sex and the City', 'Rambo', 'Planet Terror', 'Concussion',\n",
       "       'The Fall', 'The Ugly Truth', 'Bride Wars',\n",
       "       'Sleeping with Other People', 'Snakes on a Plane', 'What If',\n",
       "       'How to Train Your Dragon 2', 'RoboCop', 'In Dubious Battle',\n",
       "       'Hello, My Name Is Doris', \"Ocean's Thirteen\", 'Slither',\n",
       "       'Contagion', 'Il racconto dei racconti - Tale of Tales',\n",
       "       'I Am the Pretty Thing That Lives in the House',\n",
       "       'Bridge to Terabithia', 'Coherence', 'Notorious', 'Goksung',\n",
       "       'The Expendables 2', 'The Girl Next Door',\n",
       "       'Perfume: The Story of a Murderer', 'The Golden Compass',\n",
       "       'Centurion', 'Scouts Guide to the Zombie Apocalypse', '17 Again',\n",
       "       'No Escape', 'Superman Returns',\n",
       "       'The Twilight Saga: Breaking Dawn - Part 1', 'Precious',\n",
       "       'The Sea of Trees', 'Good Kids', 'The Master', 'Footloose',\n",
       "       'If I Stay', 'The Ticket', 'Detour', 'The Love Witch',\n",
       "       'Talladega Nights: The Ballad of Ricky Bobby',\n",
       "       'The Human Centipede (First Sequence)', 'Super',\n",
       "       'The Siege of Jadotville', 'Up in the Air',\n",
       "       'The Midnight Meat Train', 'The Twilight Saga: Eclipse',\n",
       "       'Transpecos', \"What's Your Number?\", 'Riddick', 'Triangle',\n",
       "       'The Butler', 'King Cobra', 'After Earth', 'Kicks',\n",
       "       'Me and Earl and the Dying Girl', 'The Descendants',\n",
       "       'Sex and the City 2', 'The Kings of Summer', 'Death Race',\n",
       "       'That Awkward Moment', 'Legion', 'End of Watch', '3 Days to Kill',\n",
       "       'Lucky Number Slevin', 'Trance', 'Into the Forest',\n",
       "       'The Other Boleyn Girl', 'I Spit on Your Grave', 'Custody',\n",
       "       'Inland Empire', \"L'odyssée\", 'The Walk', 'Wrecker',\n",
       "       'The Lone Ranger', 'Texas Chainsaw 3D', 'Disturbia',\n",
       "       'Rock of Ages', 'Scream 4', 'Queen of Katwe',\n",
       "       'My Big Fat Greek Wedding 2', 'Dark Places', 'Amateur Night',\n",
       "       \"It's Only the End of the World\", 'The Skin I Live In',\n",
       "       'Miracles from Heaven', 'Annie', 'Across the Universe',\n",
       "       \"Let's Be Cops\", 'Max', 'Your Highness', 'Final Destination 5',\n",
       "       'Endless Love', 'Martyrs', 'Selma',\n",
       "       'Underworld: Rise of the Lycans', 'Taare Zameen Par',\n",
       "       'Take Me Home Tonight', 'Resident Evil: Afterlife', 'Project X',\n",
       "       'Secret in Their Eyes', 'Hostel: Part II',\n",
       "       'Step Up 2: The Streets', 'Search Party', 'Nine Lives'],\n",
       "      dtype=object)"
      ]
     },
     "execution_count": 21,
     "metadata": {},
     "output_type": "execute_result"
    }
   ],
   "source": [
    "df['Title'].unique()"
   ]
  },
  {
   "cell_type": "code",
   "execution_count": 22,
   "id": "0a18094a",
   "metadata": {},
   "outputs": [
    {
     "data": {
      "text/html": [
       "<div>\n",
       "<style scoped>\n",
       "    .dataframe tbody tr th:only-of-type {\n",
       "        vertical-align: middle;\n",
       "    }\n",
       "\n",
       "    .dataframe tbody tr th {\n",
       "        vertical-align: top;\n",
       "    }\n",
       "\n",
       "    .dataframe thead th {\n",
       "        text-align: right;\n",
       "    }\n",
       "</style>\n",
       "<table border=\"1\" class=\"dataframe\">\n",
       "  <thead>\n",
       "    <tr style=\"text-align: right;\">\n",
       "      <th></th>\n",
       "      <th>Title</th>\n",
       "      <th>Runtime (Minutes)</th>\n",
       "    </tr>\n",
       "  </thead>\n",
       "  <tbody>\n",
       "    <tr>\n",
       "      <th>828</th>\n",
       "      <td>Grindhouse</td>\n",
       "      <td>191</td>\n",
       "    </tr>\n",
       "    <tr>\n",
       "      <th>88</th>\n",
       "      <td>The Hateful Eight</td>\n",
       "      <td>187</td>\n",
       "    </tr>\n",
       "    <tr>\n",
       "      <th>965</th>\n",
       "      <td>Inland Empire</td>\n",
       "      <td>180</td>\n",
       "    </tr>\n",
       "    <tr>\n",
       "      <th>311</th>\n",
       "      <td>La vie d'Adèle</td>\n",
       "      <td>180</td>\n",
       "    </tr>\n",
       "    <tr>\n",
       "      <th>82</th>\n",
       "      <td>The Wolf of Wall Street</td>\n",
       "      <td>180</td>\n",
       "    </tr>\n",
       "    <tr>\n",
       "      <th>267</th>\n",
       "      <td>Cloud Atlas</td>\n",
       "      <td>172</td>\n",
       "    </tr>\n",
       "    <tr>\n",
       "      <th>430</th>\n",
       "      <td>3 Idiots</td>\n",
       "      <td>170</td>\n",
       "    </tr>\n",
       "    <tr>\n",
       "      <th>75</th>\n",
       "      <td>Pirates of the Caribbean: At World's End</td>\n",
       "      <td>169</td>\n",
       "    </tr>\n",
       "    <tr>\n",
       "      <th>271</th>\n",
       "      <td>The Hobbit: An Unexpected Journey</td>\n",
       "      <td>169</td>\n",
       "    </tr>\n",
       "    <tr>\n",
       "      <th>36</th>\n",
       "      <td>Interstellar</td>\n",
       "      <td>169</td>\n",
       "    </tr>\n",
       "  </tbody>\n",
       "</table>\n",
       "</div>"
      ],
      "text/plain": [
       "                                        Title  Runtime (Minutes)\n",
       "828                                Grindhouse                191\n",
       "88                          The Hateful Eight                187\n",
       "965                             Inland Empire                180\n",
       "311                            La vie d'Adèle                180\n",
       "82                    The Wolf of Wall Street                180\n",
       "267                               Cloud Atlas                172\n",
       "430                                  3 Idiots                170\n",
       "75   Pirates of the Caribbean: At World's End                169\n",
       "271         The Hobbit: An Unexpected Journey                169\n",
       "36                               Interstellar                169"
      ]
     },
     "execution_count": 22,
     "metadata": {},
     "output_type": "execute_result"
    }
   ],
   "source": [
    "df[['Title','Runtime (Minutes)']].sort_values('Runtime (Minutes)',ascending=False).head(10)"
   ]
  },
  {
   "cell_type": "code",
   "execution_count": 23,
   "id": "19ddf962",
   "metadata": {},
   "outputs": [],
   "source": [
    "data=df.nlargest(10,'Runtime (Minutes)')[['Title','Runtime (Minutes)']].set_index('Title')"
   ]
  },
  {
   "cell_type": "code",
   "execution_count": 24,
   "id": "d22427b7",
   "metadata": {},
   "outputs": [
    {
     "data": {
      "text/html": [
       "<div>\n",
       "<style scoped>\n",
       "    .dataframe tbody tr th:only-of-type {\n",
       "        vertical-align: middle;\n",
       "    }\n",
       "\n",
       "    .dataframe tbody tr th {\n",
       "        vertical-align: top;\n",
       "    }\n",
       "\n",
       "    .dataframe thead th {\n",
       "        text-align: right;\n",
       "    }\n",
       "</style>\n",
       "<table border=\"1\" class=\"dataframe\">\n",
       "  <thead>\n",
       "    <tr style=\"text-align: right;\">\n",
       "      <th></th>\n",
       "      <th>Runtime (Minutes)</th>\n",
       "    </tr>\n",
       "    <tr>\n",
       "      <th>Title</th>\n",
       "      <th></th>\n",
       "    </tr>\n",
       "  </thead>\n",
       "  <tbody>\n",
       "    <tr>\n",
       "      <th>Grindhouse</th>\n",
       "      <td>191</td>\n",
       "    </tr>\n",
       "    <tr>\n",
       "      <th>The Hateful Eight</th>\n",
       "      <td>187</td>\n",
       "    </tr>\n",
       "    <tr>\n",
       "      <th>The Wolf of Wall Street</th>\n",
       "      <td>180</td>\n",
       "    </tr>\n",
       "    <tr>\n",
       "      <th>La vie d'Adèle</th>\n",
       "      <td>180</td>\n",
       "    </tr>\n",
       "    <tr>\n",
       "      <th>Inland Empire</th>\n",
       "      <td>180</td>\n",
       "    </tr>\n",
       "    <tr>\n",
       "      <th>Cloud Atlas</th>\n",
       "      <td>172</td>\n",
       "    </tr>\n",
       "    <tr>\n",
       "      <th>3 Idiots</th>\n",
       "      <td>170</td>\n",
       "    </tr>\n",
       "    <tr>\n",
       "      <th>Interstellar</th>\n",
       "      <td>169</td>\n",
       "    </tr>\n",
       "    <tr>\n",
       "      <th>Pirates of the Caribbean: At World's End</th>\n",
       "      <td>169</td>\n",
       "    </tr>\n",
       "    <tr>\n",
       "      <th>The Hobbit: An Unexpected Journey</th>\n",
       "      <td>169</td>\n",
       "    </tr>\n",
       "  </tbody>\n",
       "</table>\n",
       "</div>"
      ],
      "text/plain": [
       "                                          Runtime (Minutes)\n",
       "Title                                                      \n",
       "Grindhouse                                              191\n",
       "The Hateful Eight                                       187\n",
       "The Wolf of Wall Street                                 180\n",
       "La vie d'Adèle                                          180\n",
       "Inland Empire                                           180\n",
       "Cloud Atlas                                             172\n",
       "3 Idiots                                                170\n",
       "Interstellar                                            169\n",
       "Pirates of the Caribbean: At World's End                169\n",
       "The Hobbit: An Unexpected Journey                       169"
      ]
     },
     "execution_count": 24,
     "metadata": {},
     "output_type": "execute_result"
    }
   ],
   "source": [
    "data"
   ]
  },
  {
   "cell_type": "code",
   "execution_count": 25,
   "id": "e421582a",
   "metadata": {},
   "outputs": [
    {
     "data": {
      "text/plain": [
       "<Axes: xlabel='Runtime (Minutes)', ylabel='Title'>"
      ]
     },
     "execution_count": 25,
     "metadata": {},
     "output_type": "execute_result"
    },
    {
     "data": {
      "image/png": "[encoded data removed]",
      "text/plain": [
       "<Figure size 640x480 with 1 Axes>"
      ]
     },
     "metadata": {},
     "output_type": "display_data"
    }
   ],
   "source": [
    "sns.barplot(x='Runtime (Minutes)',y=data.index,data=data)"
   ]
  },
  {
   "cell_type": "markdown",
   "id": "fd948e9b",
   "metadata": {},
   "source": [
    "# Display no of movie per year"
   ]
  },
  {
   "cell_type": "code",
   "execution_count": 26,
   "id": "fa523a77",
   "metadata": {},
   "outputs": [
    {
     "data": {
      "text/plain": [
       "Year\n",
       "2016    297\n",
       "2015    127\n",
       "2014     98\n",
       "2013     91\n",
       "2012     64\n",
       "2011     63\n",
       "2010     60\n",
       "2007     53\n",
       "2008     52\n",
       "2009     51\n",
       "2006     44\n",
       "Name: count, dtype: int64"
      ]
     },
     "execution_count": 26,
     "metadata": {},
     "output_type": "execute_result"
    }
   ],
   "source": [
    "df['Year'].value_counts()"
   ]
  },
  {
   "cell_type": "code",
   "execution_count": 27,
   "id": "4a60baa2",
   "metadata": {},
   "outputs": [
    {
     "data": {
      "text/plain": [
       "Text(0.5, 1.0, 'movies per year')"
      ]
     },
     "execution_count": 27,
     "metadata": {},
     "output_type": "execute_result"
    },
    {
     "data": {
      "image/png": "[encoded data removed]",
      "text/plain": [
       "<Figure size 640x480 with 1 Axes>"
      ]
     },
     "metadata": {},
     "output_type": "display_data"
    }
   ],
   "source": [
    "sns.countplot(x=df['Year'])\n",
    "plt.title('movies per year')"
   ]
  },
  {
   "cell_type": "markdown",
   "id": "ca186b3c",
   "metadata": {},
   "source": [
    "# most popular movie title (highest revinew)"
   ]
  },
  {
   "cell_type": "code",
   "execution_count": 28,
   "id": "5cf008ab",
   "metadata": {},
   "outputs": [
    {
     "data": {
      "text/plain": [
       "Index(['Rank', 'Title', 'Genre', 'Description', 'Director', 'Actors', 'Year',\n",
       "       'Runtime (Minutes)', 'Rating', 'Votes', 'Revenue (Millions)',\n",
       "       'Metascore'],\n",
       "      dtype='object')"
      ]
     },
     "execution_count": 28,
     "metadata": {},
     "output_type": "execute_result"
    }
   ],
   "source": [
    "df.columns"
   ]
  },
  {
   "cell_type": "code",
   "execution_count": 29,
   "id": "6d9d0969",
   "metadata": {},
   "outputs": [
    {
     "data": {
      "text/plain": [
       "50    Star Wars: Episode VII - The Force Awakens\n",
       "Name: Title, dtype: object"
      ]
     },
     "execution_count": 29,
     "metadata": {},
     "output_type": "execute_result"
    }
   ],
   "source": [
    "df[df['Revenue (Millions)'].max()==df['Revenue (Millions)']]['Title']"
   ]
  },
  {
   "cell_type": "markdown",
   "id": "ef30cd88",
   "metadata": {},
   "source": [
    "# Display top 10 highest rated movie title and its director"
   ]
  },
  {
   "cell_type": "code",
   "execution_count": 30,
   "id": "508dc269",
   "metadata": {},
   "outputs": [],
   "source": [
    "data=df.nlargest(10,'Runtime (Minutes)')[['Title','Rating','Director']].set_index('Title')"
   ]
  },
  {
   "cell_type": "code",
   "execution_count": 31,
   "id": "9917eeef",
   "metadata": {},
   "outputs": [
    {
     "data": {
      "text/html": [
       "<div>\n",
       "<style scoped>\n",
       "    .dataframe tbody tr th:only-of-type {\n",
       "        vertical-align: middle;\n",
       "    }\n",
       "\n",
       "    .dataframe tbody tr th {\n",
       "        vertical-align: top;\n",
       "    }\n",
       "\n",
       "    .dataframe thead th {\n",
       "        text-align: right;\n",
       "    }\n",
       "</style>\n",
       "<table border=\"1\" class=\"dataframe\">\n",
       "  <thead>\n",
       "    <tr style=\"text-align: right;\">\n",
       "      <th></th>\n",
       "      <th>Rating</th>\n",
       "      <th>Director</th>\n",
       "    </tr>\n",
       "    <tr>\n",
       "      <th>Title</th>\n",
       "      <th></th>\n",
       "      <th></th>\n",
       "    </tr>\n",
       "  </thead>\n",
       "  <tbody>\n",
       "    <tr>\n",
       "      <th>Grindhouse</th>\n",
       "      <td>7.6</td>\n",
       "      <td>Robert Rodriguez</td>\n",
       "    </tr>\n",
       "    <tr>\n",
       "      <th>The Hateful Eight</th>\n",
       "      <td>7.8</td>\n",
       "      <td>Quentin Tarantino</td>\n",
       "    </tr>\n",
       "    <tr>\n",
       "      <th>The Wolf of Wall Street</th>\n",
       "      <td>8.2</td>\n",
       "      <td>Martin Scorsese</td>\n",
       "    </tr>\n",
       "    <tr>\n",
       "      <th>La vie d'Adèle</th>\n",
       "      <td>7.8</td>\n",
       "      <td>Abdellatif Kechiche</td>\n",
       "    </tr>\n",
       "    <tr>\n",
       "      <th>Inland Empire</th>\n",
       "      <td>7.0</td>\n",
       "      <td>David Lynch</td>\n",
       "    </tr>\n",
       "    <tr>\n",
       "      <th>Cloud Atlas</th>\n",
       "      <td>7.5</td>\n",
       "      <td>Tom Tykwer</td>\n",
       "    </tr>\n",
       "    <tr>\n",
       "      <th>3 Idiots</th>\n",
       "      <td>8.4</td>\n",
       "      <td>Rajkumar Hirani</td>\n",
       "    </tr>\n",
       "    <tr>\n",
       "      <th>Interstellar</th>\n",
       "      <td>8.6</td>\n",
       "      <td>Christopher Nolan</td>\n",
       "    </tr>\n",
       "    <tr>\n",
       "      <th>Pirates of the Caribbean: At World's End</th>\n",
       "      <td>7.1</td>\n",
       "      <td>Gore Verbinski</td>\n",
       "    </tr>\n",
       "    <tr>\n",
       "      <th>The Hobbit: An Unexpected Journey</th>\n",
       "      <td>7.9</td>\n",
       "      <td>Peter Jackson</td>\n",
       "    </tr>\n",
       "  </tbody>\n",
       "</table>\n",
       "</div>"
      ],
      "text/plain": [
       "                                          Rating             Director\n",
       "Title                                                                \n",
       "Grindhouse                                   7.6     Robert Rodriguez\n",
       "The Hateful Eight                            7.8    Quentin Tarantino\n",
       "The Wolf of Wall Street                      8.2      Martin Scorsese\n",
       "La vie d'Adèle                               7.8  Abdellatif Kechiche\n",
       "Inland Empire                                7.0          David Lynch\n",
       "Cloud Atlas                                  7.5           Tom Tykwer\n",
       "3 Idiots                                     8.4      Rajkumar Hirani\n",
       "Interstellar                                 8.6    Christopher Nolan\n",
       "Pirates of the Caribbean: At World's End     7.1       Gore Verbinski\n",
       "The Hobbit: An Unexpected Journey            7.9        Peter Jackson"
      ]
     },
     "execution_count": 31,
     "metadata": {},
     "output_type": "execute_result"
    }
   ],
   "source": [
    "data"
   ]
  },
  {
   "cell_type": "code",
   "execution_count": 32,
   "id": "03ab4995",
   "metadata": {},
   "outputs": [
    {
     "data": {
      "text/plain": [
       "<Axes: xlabel='Rating', ylabel='Title'>"
      ]
     },
     "execution_count": 32,
     "metadata": {},
     "output_type": "execute_result"
    },
    {
     "data": {
      "image/png": "[encoded data removed]",
      "text/plain": [
       "<Figure size 640x480 with 1 Axes>"
      ]
     },
     "metadata": {},
     "output_type": "display_data"
    }
   ],
   "source": [
    "sns.barplot(x='Rating',y=data.index,data=data)"
   ]
  },
  {
   "cell_type": "markdown",
   "id": "3ef19744",
   "metadata": {},
   "source": [
    "# display top 10 highest revinew movie title"
   ]
  },
  {
   "cell_type": "code",
   "execution_count": 33,
   "id": "2b483b39",
   "metadata": {},
   "outputs": [
    {
     "data": {
      "text/plain": [
       "Index(['Rank', 'Title', 'Genre', 'Description', 'Director', 'Actors', 'Year',\n",
       "       'Runtime (Minutes)', 'Rating', 'Votes', 'Revenue (Millions)',\n",
       "       'Metascore'],\n",
       "      dtype='object')"
      ]
     },
     "execution_count": 33,
     "metadata": {},
     "output_type": "execute_result"
    }
   ],
   "source": [
    "df.columns"
   ]
  },
  {
   "cell_type": "code",
   "execution_count": 34,
   "id": "3e355663",
   "metadata": {},
   "outputs": [],
   "source": [
    "data=df.nlargest(10,'Revenue (Millions)')[['Title','Revenue (Millions)']].set_index('Title')"
   ]
  },
  {
   "cell_type": "code",
   "execution_count": 35,
   "id": "4c1c28c7",
   "metadata": {},
   "outputs": [
    {
     "data": {
      "text/html": [
       "<div>\n",
       "<style scoped>\n",
       "    .dataframe tbody tr th:only-of-type {\n",
       "        vertical-align: middle;\n",
       "    }\n",
       "\n",
       "    .dataframe tbody tr th {\n",
       "        vertical-align: top;\n",
       "    }\n",
       "\n",
       "    .dataframe thead th {\n",
       "        text-align: right;\n",
       "    }\n",
       "</style>\n",
       "<table border=\"1\" class=\"dataframe\">\n",
       "  <thead>\n",
       "    <tr style=\"text-align: right;\">\n",
       "      <th></th>\n",
       "      <th>Revenue (Millions)</th>\n",
       "    </tr>\n",
       "    <tr>\n",
       "      <th>Title</th>\n",
       "      <th></th>\n",
       "    </tr>\n",
       "  </thead>\n",
       "  <tbody>\n",
       "    <tr>\n",
       "      <th>Star Wars: Episode VII - The Force Awakens</th>\n",
       "      <td>936.63</td>\n",
       "    </tr>\n",
       "    <tr>\n",
       "      <th>Avatar</th>\n",
       "      <td>760.51</td>\n",
       "    </tr>\n",
       "    <tr>\n",
       "      <th>Jurassic World</th>\n",
       "      <td>652.18</td>\n",
       "    </tr>\n",
       "    <tr>\n",
       "      <th>The Avengers</th>\n",
       "      <td>623.28</td>\n",
       "    </tr>\n",
       "    <tr>\n",
       "      <th>The Dark Knight</th>\n",
       "      <td>533.32</td>\n",
       "    </tr>\n",
       "    <tr>\n",
       "      <th>Rogue One</th>\n",
       "      <td>532.17</td>\n",
       "    </tr>\n",
       "    <tr>\n",
       "      <th>Finding Dory</th>\n",
       "      <td>486.29</td>\n",
       "    </tr>\n",
       "    <tr>\n",
       "      <th>Avengers: Age of Ultron</th>\n",
       "      <td>458.99</td>\n",
       "    </tr>\n",
       "    <tr>\n",
       "      <th>The Dark Knight Rises</th>\n",
       "      <td>448.13</td>\n",
       "    </tr>\n",
       "    <tr>\n",
       "      <th>The Hunger Games: Catching Fire</th>\n",
       "      <td>424.65</td>\n",
       "    </tr>\n",
       "  </tbody>\n",
       "</table>\n",
       "</div>"
      ],
      "text/plain": [
       "                                            Revenue (Millions)\n",
       "Title                                                         \n",
       "Star Wars: Episode VII - The Force Awakens              936.63\n",
       "Avatar                                                  760.51\n",
       "Jurassic World                                          652.18\n",
       "The Avengers                                            623.28\n",
       "The Dark Knight                                         533.32\n",
       "Rogue One                                               532.17\n",
       "Finding Dory                                            486.29\n",
       "Avengers: Age of Ultron                                 458.99\n",
       "The Dark Knight Rises                                   448.13\n",
       "The Hunger Games: Catching Fire                         424.65"
      ]
     },
     "execution_count": 35,
     "metadata": {},
     "output_type": "execute_result"
    }
   ],
   "source": [
    "data"
   ]
  },
  {
   "cell_type": "code",
   "execution_count": 36,
   "id": "7b1a16ee",
   "metadata": {},
   "outputs": [
    {
     "data": {
      "text/plain": [
       "<Axes: xlabel='Revenue (Millions)', ylabel='Title'>"
      ]
     },
     "execution_count": 36,
     "metadata": {},
     "output_type": "execute_result"
    },
    {
     "data": {
      "image/png": "[encoded data removed]",
      "text/plain": [
       "<Figure size 640x480 with 1 Axes>"
      ]
     },
     "metadata": {},
     "output_type": "display_data"
    }
   ],
   "source": [
    "sns.barplot(x='Revenue (Millions)',y=data.index,data=data)"
   ]
  },
  {
   "cell_type": "markdown",
   "id": "892e3851",
   "metadata": {},
   "source": [
    "# Find avarage Rating of movie Year wise"
   ]
  },
  {
   "cell_type": "code",
   "execution_count": 37,
   "id": "a80818c5",
   "metadata": {},
   "outputs": [
    {
     "data": {
      "text/plain": [
       "Index(['Rank', 'Title', 'Genre', 'Description', 'Director', 'Actors', 'Year',\n",
       "       'Runtime (Minutes)', 'Rating', 'Votes', 'Revenue (Millions)',\n",
       "       'Metascore'],\n",
       "      dtype='object')"
      ]
     },
     "execution_count": 37,
     "metadata": {},
     "output_type": "execute_result"
    }
   ],
   "source": [
    "df.columns"
   ]
  },
  {
   "cell_type": "code",
   "execution_count": 38,
   "id": "05788fad",
   "metadata": {},
   "outputs": [
    {
     "data": {
      "text/plain": [
       "Year\n",
       "2007    7.133962\n",
       "2006    7.125000\n",
       "2009    6.960784\n",
       "2012    6.925000\n",
       "2011    6.838095\n",
       "2014    6.837755\n",
       "2010    6.826667\n",
       "2013    6.812088\n",
       "2008    6.784615\n",
       "2015    6.602362\n",
       "2016    6.436700\n",
       "Name: Rating, dtype: float64"
      ]
     },
     "execution_count": 38,
     "metadata": {},
     "output_type": "execute_result"
    }
   ],
   "source": [
    "df.groupby('Year')['Rating'].mean().sort_values(ascending=False)"
   ]
  },
  {
   "cell_type": "markdown",
   "id": "8fe86d57",
   "metadata": {},
   "source": [
    "# Does rating affect revineue"
   ]
  },
  {
   "cell_type": "code",
   "execution_count": 39,
   "id": "f6c65581",
   "metadata": {},
   "outputs": [
    {
     "data": {
      "text/plain": [
       "<Axes: xlabel='Rating', ylabel='Revenue (Millions)'>"
      ]
     },
     "execution_count": 39,
     "metadata": {},
     "output_type": "execute_result"
    },
    {
     "data": {
      "image/png": "[encoded data removed]",
      "text/plain": [
       "<Figure size 640x480 with 1 Axes>"
      ]
     },
     "metadata": {},
     "output_type": "display_data"
    }
   ],
   "source": [
    "sns.scatterplot(x='Rating',y='Revenue (Millions)',data=df)"
   ]
  },
  {
   "cell_type": "markdown",
   "id": "5beca1e7",
   "metadata": {},
   "source": [
    "# Classify Movie based on rating(excellent,good,average)"
   ]
  },
  {
   "cell_type": "code",
   "execution_count": null,
   "id": "bb320b8a",
   "metadata": {},
   "outputs": [],
   "source": []
  },
  {
   "cell_type": "code",
   "execution_count": null,
   "id": "c2d9517b",
   "metadata": {},
   "outputs": [],
   "source": []
  },
  {
   "cell_type": "markdown",
   "id": "6658e1ca",
   "metadata": {},
   "source": [
    "# Count No Of Action movies"
   ]
  },
  {
   "cell_type": "code",
   "execution_count": 40,
   "id": "dfc08bf8",
   "metadata": {},
   "outputs": [
    {
     "data": {
      "text/plain": [
       "Index(['Rank', 'Title', 'Genre', 'Description', 'Director', 'Actors', 'Year',\n",
       "       'Runtime (Minutes)', 'Rating', 'Votes', 'Revenue (Millions)',\n",
       "       'Metascore'],\n",
       "      dtype='object')"
      ]
     },
     "execution_count": 40,
     "metadata": {},
     "output_type": "execute_result"
    }
   ],
   "source": [
    "df.columns"
   ]
  },
  {
   "cell_type": "code",
   "execution_count": 41,
   "id": "398cefb4",
   "metadata": {},
   "outputs": [
    {
     "data": {
      "text/plain": [
       "Rank                  303\n",
       "Title                 303\n",
       "Genre                 303\n",
       "Description           303\n",
       "Director              303\n",
       "Actors                303\n",
       "Year                  303\n",
       "Runtime (Minutes)     303\n",
       "Rating                303\n",
       "Votes                 303\n",
       "Revenue (Millions)    286\n",
       "Metascore             289\n",
       "dtype: int64"
      ]
     },
     "execution_count": 41,
     "metadata": {},
     "output_type": "execute_result"
    }
   ],
   "source": [
    "df[df['Genre'].str.contains('Action',case=False)].count()"
   ]
  },
  {
   "cell_type": "markdown",
   "id": "475388e6",
   "metadata": {},
   "source": [
    "# Find Unique value of Genra column?"
   ]
  },
  {
   "cell_type": "code",
   "execution_count": 42,
   "id": "57c9f84c",
   "metadata": {},
   "outputs": [
    {
     "data": {
      "text/plain": [
       "array(['Action,Adventure,Sci-Fi', 'Adventure,Mystery,Sci-Fi',\n",
       "       'Horror,Thriller', 'Animation,Comedy,Family',\n",
       "       'Action,Adventure,Fantasy', 'Comedy,Drama,Music', 'Comedy',\n",
       "       'Action,Adventure,Biography', 'Adventure,Drama,Romance',\n",
       "       'Adventure,Family,Fantasy', 'Biography,Drama,History',\n",
       "       'Animation,Adventure,Comedy', 'Action,Comedy,Drama',\n",
       "       'Action,Thriller', 'Biography,Drama', 'Drama,Mystery,Sci-Fi',\n",
       "       'Adventure,Drama,Thriller', 'Drama', 'Crime,Drama,Horror',\n",
       "       'Action,Adventure,Drama', 'Drama,Thriller',\n",
       "       'Action,Adventure,Comedy', 'Action,Horror,Sci-Fi',\n",
       "       'Adventure,Drama,Sci-Fi', 'Action,Adventure,Western',\n",
       "       'Comedy,Drama', 'Horror', 'Adventure,Drama,Fantasy',\n",
       "       'Action,Crime,Thriller', 'Action,Crime,Drama',\n",
       "       'Adventure,Drama,History', 'Crime,Horror,Thriller',\n",
       "       'Drama,Romance', 'Comedy,Drama,Romance', 'Horror,Mystery,Thriller',\n",
       "       'Crime,Drama,Mystery', 'Drama,Romance,Thriller',\n",
       "       'Drama,History,Thriller', 'Action,Drama,Thriller', 'Drama,History',\n",
       "       'Action,Drama,Romance', 'Drama,Fantasy', 'Action,Sci-Fi',\n",
       "       'Adventure,Drama,War', 'Action,Comedy,Fantasy',\n",
       "       'Biography,Comedy,Crime', 'Crime,Drama', 'Comedy,Crime,Drama',\n",
       "       'Action,Comedy,Crime', 'Animation,Drama,Fantasy',\n",
       "       'Horror,Mystery,Sci-Fi', 'Drama,Mystery,Thriller',\n",
       "       'Crime,Drama,Thriller', 'Biography,Crime,Drama',\n",
       "       'Crime,Mystery,Thriller', 'Action,Horror,Thriller',\n",
       "       'Romance,Sci-Fi', 'Action,Fantasy,War', 'Action,Biography,Drama',\n",
       "       'Drama,Horror,Mystery', 'Adventure,Drama,Family',\n",
       "       'Adventure,Comedy,Romance', 'Action', 'Adventure,Crime,Mystery',\n",
       "       'Comedy,Family,Musical', 'Adventure,Comedy,Drama',\n",
       "       'Drama,Horror,Thriller', 'Drama,Music', 'Mystery,Thriller',\n",
       "       'Mystery,Thriller,Western', 'Comedy,Family',\n",
       "       'Biography,Comedy,Drama', 'Drama,Western', 'Drama,Mystery,Romance',\n",
       "       'Action,Drama,Mystery', 'Action,Adventure,Crime',\n",
       "       'Adventure,Sci-Fi,Thriller', 'Action,Comedy,Mystery',\n",
       "       'Thriller,War', 'Action,Adventure,Thriller',\n",
       "       'Drama,Fantasy,Romance', 'Action,Drama,History',\n",
       "       'Animation,Adventure,Family', 'Adventure,Horror',\n",
       "       'Drama,Romance,Sci-Fi', 'Action,Adventure,Family', 'Action,Comedy',\n",
       "       'Comedy,Romance', 'Horror,Mystery', 'Drama,Family,Fantasy',\n",
       "       'Sci-Fi', 'Drama,War', 'Drama,Fantasy,Horror',\n",
       "       'Crime,Drama,History', 'Horror,Sci-Fi,Thriller',\n",
       "       'Action,Drama,Sport', 'Adventure,Biography,Drama',\n",
       "       'Biography,Drama,Thriller', 'Action,Adventure,Mystery',\n",
       "       'Drama,Horror', 'Comedy,Crime', 'Drama,Fantasy,War',\n",
       "       'Action,Adventure,Romance', 'Action,Drama,War',\n",
       "       'Drama,Musical,Romance', 'Drama,Sci-Fi,Thriller',\n",
       "       'Action,Drama,Sci-Fi', 'Drama,Sci-Fi', 'Adventure,Fantasy',\n",
       "       'Thriller', 'Biography,Drama,Romance', 'Action,Adventure',\n",
       "       'Action,Fantasy', 'Action,Drama,Horror', 'Comedy,Music,Romance',\n",
       "       'Biography,Drama,Sport', 'Action,Horror', 'Comedy,Horror,Thriller',\n",
       "       'Crime,Drama,Music', 'Action,Sci-Fi,Thriller',\n",
       "       'Drama,Horror,Sci-Fi', 'Drama,Sport', 'Comedy,Horror',\n",
       "       'Comedy,Fantasy,Romance', 'Comedy,Fantasy', 'Comedy,Drama,Fantasy',\n",
       "       'Adventure,Comedy,Horror', 'Comedy,Mystery',\n",
       "       'Action,Mystery,Sci-Fi', 'Action,Crime,Fantasy',\n",
       "       'Comedy,Fantasy,Horror', 'Animation,Action,Adventure',\n",
       "       'Action,Comedy,Family', 'Comedy,Sci-Fi', 'Action,Biography,Crime',\n",
       "       'Adventure,Comedy', 'Comedy,Music', 'Comedy,Drama,Horror',\n",
       "       'Action,Horror,Romance', 'Action,Drama,Fantasy',\n",
       "       'Action,Mystery,Thriller', 'Action,Adventure,Horror',\n",
       "       'Animation,Family,Fantasy', 'Adventure,Horror,Mystery',\n",
       "       'Action,Horror,Mystery', 'Adventure,Comedy,Family',\n",
       "       'Action,Crime,Mystery', 'Comedy,Drama,Family',\n",
       "       'Action,Crime,Sport', 'Mystery,Sci-Fi,Thriller', 'Sci-Fi,Thriller',\n",
       "       'Adventure,Drama,Horror', 'Biography,History,Thriller',\n",
       "       'Adventure,Comedy,Sci-Fi', 'Fantasy,Horror',\n",
       "       'Action,Fantasy,Thriller', 'Comedy,Romance,Sport',\n",
       "       'Animation,Action,Comedy', 'Drama,Fantasy,Thriller',\n",
       "       'Action,Comedy,Romance', 'Action,Fantasy,Horror',\n",
       "       'Mystery,Romance,Sci-Fi', 'Comedy,Drama,Thriller',\n",
       "       'Comedy,Western', 'Drama,History,War', 'Fantasy,Horror,Thriller',\n",
       "       'Drama,Horror,Musical', 'Drama,Family', 'Romance,Sci-Fi,Thriller',\n",
       "       'Animation,Fantasy', 'Drama,Mystery,War', 'Action,Drama,Family',\n",
       "       'Adventure,Drama,Western', 'Drama,Music,Romance',\n",
       "       'Comedy,Romance,Western', 'Adventure,Drama', 'Drama,Thriller,War',\n",
       "       'Drama,Fantasy,Mystery', 'Comedy,Crime,Thriller',\n",
       "       'Animation,Comedy,Drama', 'Action,Comedy,Sci-Fi',\n",
       "       'Drama,Romance,War', 'Adventure,Fantasy,Mystery',\n",
       "       'Mystery,Romance,Thriller', 'Biography,Drama,Mystery',\n",
       "       'Animation,Drama,Romance', 'Comedy,Horror,Romance',\n",
       "       'Action,Thriller,War', 'Action,Comedy,Horror',\n",
       "       'Action,Crime,Sci-Fi', 'Crime,Thriller', 'Comedy,Horror,Sci-Fi',\n",
       "       'Crime,Drama,Fantasy', 'Drama,Fantasy,Music',\n",
       "       'Action,Comedy,Sport', 'Fantasy,Mystery,Thriller', 'Adventure',\n",
       "       'Adventure,Biography', 'Adventure,Biography,Crime',\n",
       "       'Comedy,Drama,Musical', 'Comedy,Family,Romance',\n",
       "       'Biography,Drama,Family', 'Drama,Fantasy,Musical',\n",
       "       'Adventure,Family', 'Adventure,Comedy,Fantasy',\n",
       "       'Drama,Family,Music', 'Comedy,Family,Fantasy'], dtype=object)"
      ]
     },
     "execution_count": 42,
     "metadata": {},
     "output_type": "execute_result"
    }
   ],
   "source": [
    "df['Genre'].unique()"
   ]
  },
  {
   "cell_type": "code",
   "execution_count": 43,
   "id": "63822337",
   "metadata": {},
   "outputs": [
    {
     "data": {
      "text/plain": [
       "207"
      ]
     },
     "execution_count": 43,
     "metadata": {},
     "output_type": "execute_result"
    }
   ],
   "source": [
    "df['Genre'].nunique()"
   ]
  }
 ],
 "metadata": {
  "kernelspec": {
   "display_name": "Python 3 (ipykernel)",
   "language": "python",
   "name": "python3"
  },
  "language_info": {
   "codemirror_mode": {
    "name": "ipython",
    "version": 3
   },
   "file_extension": ".py",
   "mimetype": "text/x-python",
   "name": "python",
   "nbconvert_exporter": "python",
   "pygments_lexer": "ipython3",
   "version": "3.11.2"
  }
 },
 "nbformat": 4,
 "nbformat_minor": 5
}
